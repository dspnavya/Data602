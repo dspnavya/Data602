{
  "nbformat": 4,
  "nbformat_minor": 0,
  "metadata": {
    "colab": {
      "provenance": []
    },
    "kernelspec": {
      "name": "python3",
      "display_name": "Python 3"
    },
    "language_info": {
      "name": "python"
    }
  },
  "cells": [
    {
      "cell_type": "code",
      "execution_count": 1,
      "metadata": {
        "colab": {
          "base_uri": "https://localhost:8080/"
        },
        "id": "BxaG5mfPGA2F",
        "outputId": "8aa112d5-c6ca-467b-dc60-f0648dc453b4"
      },
      "outputs": [
        {
          "output_type": "stream",
          "name": "stdout",
          "text": [
            "<class 'pandas.core.frame.DataFrame'>\n",
            "RangeIndex: 558837 entries, 0 to 558836\n",
            "Data columns (total 16 columns):\n",
            " #   Column        Non-Null Count   Dtype  \n",
            "---  ------        --------------   -----  \n",
            " 0   year          558837 non-null  int64  \n",
            " 1   make          548536 non-null  object \n",
            " 2   model         548438 non-null  object \n",
            " 3   trim          548186 non-null  object \n",
            " 4   body          545642 non-null  object \n",
            " 5   transmission  493484 non-null  object \n",
            " 6   vin           558833 non-null  object \n",
            " 7   state         558837 non-null  object \n",
            " 8   condition     547043 non-null  object \n",
            " 9   odometer      558743 non-null  float64\n",
            " 10  color         558088 non-null  object \n",
            " 11  interior      558088 non-null  object \n",
            " 12  seller        558837 non-null  object \n",
            " 13  mmr           558837 non-null  object \n",
            " 14  sellingprice  558837 non-null  int64  \n",
            " 15  saledate      558837 non-null  object \n",
            "dtypes: float64(1), int64(2), object(13)\n",
            "memory usage: 68.2+ MB\n"
          ]
        }
      ],
      "source": [
        "import pandas as pd\n",
        "import numpy as np\n",
        "import matplotlib.pyplot as plt\n",
        "%matplotlib inline\n",
        "\n",
        "df = pd.read_csv('https://raw.githubusercontent.com/msaricaumbc/DS_data/master/ds602/car_prices/car_prices.csv', low_memory=False)\n",
        "\n",
        "df.info()"
      ]
    },
    {
      "cell_type": "code",
      "source": [
        "df"
      ],
      "metadata": {
        "colab": {
          "base_uri": "https://localhost:8080/",
          "height": 1000
        },
        "id": "UKV8TBdHGPYC",
        "outputId": "d7e74fb9-86df-48e0-c09d-948ed134f983"
      },
      "execution_count": 2,
      "outputs": [
        {
          "output_type": "execute_result",
          "data": {
            "text/plain": [
              "        year    make                model         trim       body  \\\n",
              "0       2015     Kia              Sorento           LX        SUV   \n",
              "1       2015     Kia              Sorento           LX        SUV   \n",
              "2       2014     BMW             3 Series   328i SULEV      Sedan   \n",
              "3       2015   Volvo                  S60           T5      Sedan   \n",
              "4       2014     BMW  6 Series Gran Coupe         650i      Sedan   \n",
              "...      ...     ...                  ...          ...        ...   \n",
              "558832  2015     Kia                 K900       Luxury      Sedan   \n",
              "558833  2012     Ram                 2500  Power Wagon   Crew Cab   \n",
              "558834  2012     BMW                   X5    xDrive35d        SUV   \n",
              "558835  2015  Nissan               Altima        2.5 S      sedan   \n",
              "558836  2014    Ford                F-150          XLT  SuperCrew   \n",
              "\n",
              "       transmission                vin state condition  odometer   color  \\\n",
              "0         automatic  5xyktca69fg566472    ca         5   16639.0   white   \n",
              "1         automatic  5xyktca69fg561319    ca         5    9393.0   white   \n",
              "2         automatic  wba3c1c51ek116351    ca       4.5    1331.0    gray   \n",
              "3         automatic  yv1612tb4f1310987    ca       4.1   14282.0   white   \n",
              "4         automatic  wba6b2c57ed129731    ca       4.3    2641.0    gray   \n",
              "...             ...                ...   ...       ...       ...     ...   \n",
              "558832          NaN  knalw4d4xf6019304    in       4.5   18255.0  silver   \n",
              "558833    automatic  3c6td5et6cg112407    wa         5   54393.0   white   \n",
              "558834    automatic  5uxzw0c58cl668465    ca       4.8   50561.0   black   \n",
              "558835    automatic  1n4al3ap0fc216050    ga       3.8   16658.0   white   \n",
              "558836    automatic  1ftfw1et2eke87277    ca       3.4   15008.0    gray   \n",
              "\n",
              "       interior                                             seller    mmr  \\\n",
              "0         black                            kia motors america, inc  20500   \n",
              "1         beige                            kia motors america, inc  20800   \n",
              "2         black             financial services remarketing (lease)  31900   \n",
              "3         black                            volvo na rep/world omni  27500   \n",
              "4         black             financial services remarketing (lease)  66000   \n",
              "...         ...                                                ...    ...   \n",
              "558832    black                                   avis corporation  35300   \n",
              "558833    black                                    i -5 uhlmann rv  30200   \n",
              "558834    black             financial services remarketing (lease)  29800   \n",
              "558835    black  enterprise vehicle exchange / tra / rental / t...  15100   \n",
              "558836     gray                   ford motor credit company,llc pd  29600   \n",
              "\n",
              "        sellingprice                                 saledate  \n",
              "0              21500  Tue Dec 16 2014 12:30:00 GMT-0800 (PST)  \n",
              "1              21500  Tue Dec 16 2014 12:30:00 GMT-0800 (PST)  \n",
              "2              30000  Thu Jan 15 2015 04:30:00 GMT-0800 (PST)  \n",
              "3              27750  Thu Jan 29 2015 04:30:00 GMT-0800 (PST)  \n",
              "4              67000  Thu Dec 18 2014 12:30:00 GMT-0800 (PST)  \n",
              "...              ...                                      ...  \n",
              "558832         33000  Thu Jul 09 2015 07:00:00 GMT-0700 (PDT)  \n",
              "558833         30800  Wed Jul 08 2015 09:30:00 GMT-0700 (PDT)  \n",
              "558834         34000  Wed Jul 08 2015 09:30:00 GMT-0700 (PDT)  \n",
              "558835         11100  Thu Jul 09 2015 06:45:00 GMT-0700 (PDT)  \n",
              "558836         26700  Thu May 28 2015 05:30:00 GMT-0700 (PDT)  \n",
              "\n",
              "[558837 rows x 16 columns]"
            ],
            "text/html": [
              "\n",
              "  <div id=\"df-4b56d782-abfa-428f-870c-92fd53f8d1ef\">\n",
              "    <div class=\"colab-df-container\">\n",
              "      <div>\n",
              "<style scoped>\n",
              "    .dataframe tbody tr th:only-of-type {\n",
              "        vertical-align: middle;\n",
              "    }\n",
              "\n",
              "    .dataframe tbody tr th {\n",
              "        vertical-align: top;\n",
              "    }\n",
              "\n",
              "    .dataframe thead th {\n",
              "        text-align: right;\n",
              "    }\n",
              "</style>\n",
              "<table border=\"1\" class=\"dataframe\">\n",
              "  <thead>\n",
              "    <tr style=\"text-align: right;\">\n",
              "      <th></th>\n",
              "      <th>year</th>\n",
              "      <th>make</th>\n",
              "      <th>model</th>\n",
              "      <th>trim</th>\n",
              "      <th>body</th>\n",
              "      <th>transmission</th>\n",
              "      <th>vin</th>\n",
              "      <th>state</th>\n",
              "      <th>condition</th>\n",
              "      <th>odometer</th>\n",
              "      <th>color</th>\n",
              "      <th>interior</th>\n",
              "      <th>seller</th>\n",
              "      <th>mmr</th>\n",
              "      <th>sellingprice</th>\n",
              "      <th>saledate</th>\n",
              "    </tr>\n",
              "  </thead>\n",
              "  <tbody>\n",
              "    <tr>\n",
              "      <th>0</th>\n",
              "      <td>2015</td>\n",
              "      <td>Kia</td>\n",
              "      <td>Sorento</td>\n",
              "      <td>LX</td>\n",
              "      <td>SUV</td>\n",
              "      <td>automatic</td>\n",
              "      <td>5xyktca69fg566472</td>\n",
              "      <td>ca</td>\n",
              "      <td>5</td>\n",
              "      <td>16639.0</td>\n",
              "      <td>white</td>\n",
              "      <td>black</td>\n",
              "      <td>kia motors america, inc</td>\n",
              "      <td>20500</td>\n",
              "      <td>21500</td>\n",
              "      <td>Tue Dec 16 2014 12:30:00 GMT-0800 (PST)</td>\n",
              "    </tr>\n",
              "    <tr>\n",
              "      <th>1</th>\n",
              "      <td>2015</td>\n",
              "      <td>Kia</td>\n",
              "      <td>Sorento</td>\n",
              "      <td>LX</td>\n",
              "      <td>SUV</td>\n",
              "      <td>automatic</td>\n",
              "      <td>5xyktca69fg561319</td>\n",
              "      <td>ca</td>\n",
              "      <td>5</td>\n",
              "      <td>9393.0</td>\n",
              "      <td>white</td>\n",
              "      <td>beige</td>\n",
              "      <td>kia motors america, inc</td>\n",
              "      <td>20800</td>\n",
              "      <td>21500</td>\n",
              "      <td>Tue Dec 16 2014 12:30:00 GMT-0800 (PST)</td>\n",
              "    </tr>\n",
              "    <tr>\n",
              "      <th>2</th>\n",
              "      <td>2014</td>\n",
              "      <td>BMW</td>\n",
              "      <td>3 Series</td>\n",
              "      <td>328i SULEV</td>\n",
              "      <td>Sedan</td>\n",
              "      <td>automatic</td>\n",
              "      <td>wba3c1c51ek116351</td>\n",
              "      <td>ca</td>\n",
              "      <td>4.5</td>\n",
              "      <td>1331.0</td>\n",
              "      <td>gray</td>\n",
              "      <td>black</td>\n",
              "      <td>financial services remarketing (lease)</td>\n",
              "      <td>31900</td>\n",
              "      <td>30000</td>\n",
              "      <td>Thu Jan 15 2015 04:30:00 GMT-0800 (PST)</td>\n",
              "    </tr>\n",
              "    <tr>\n",
              "      <th>3</th>\n",
              "      <td>2015</td>\n",
              "      <td>Volvo</td>\n",
              "      <td>S60</td>\n",
              "      <td>T5</td>\n",
              "      <td>Sedan</td>\n",
              "      <td>automatic</td>\n",
              "      <td>yv1612tb4f1310987</td>\n",
              "      <td>ca</td>\n",
              "      <td>4.1</td>\n",
              "      <td>14282.0</td>\n",
              "      <td>white</td>\n",
              "      <td>black</td>\n",
              "      <td>volvo na rep/world omni</td>\n",
              "      <td>27500</td>\n",
              "      <td>27750</td>\n",
              "      <td>Thu Jan 29 2015 04:30:00 GMT-0800 (PST)</td>\n",
              "    </tr>\n",
              "    <tr>\n",
              "      <th>4</th>\n",
              "      <td>2014</td>\n",
              "      <td>BMW</td>\n",
              "      <td>6 Series Gran Coupe</td>\n",
              "      <td>650i</td>\n",
              "      <td>Sedan</td>\n",
              "      <td>automatic</td>\n",
              "      <td>wba6b2c57ed129731</td>\n",
              "      <td>ca</td>\n",
              "      <td>4.3</td>\n",
              "      <td>2641.0</td>\n",
              "      <td>gray</td>\n",
              "      <td>black</td>\n",
              "      <td>financial services remarketing (lease)</td>\n",
              "      <td>66000</td>\n",
              "      <td>67000</td>\n",
              "      <td>Thu Dec 18 2014 12:30:00 GMT-0800 (PST)</td>\n",
              "    </tr>\n",
              "    <tr>\n",
              "      <th>...</th>\n",
              "      <td>...</td>\n",
              "      <td>...</td>\n",
              "      <td>...</td>\n",
              "      <td>...</td>\n",
              "      <td>...</td>\n",
              "      <td>...</td>\n",
              "      <td>...</td>\n",
              "      <td>...</td>\n",
              "      <td>...</td>\n",
              "      <td>...</td>\n",
              "      <td>...</td>\n",
              "      <td>...</td>\n",
              "      <td>...</td>\n",
              "      <td>...</td>\n",
              "      <td>...</td>\n",
              "      <td>...</td>\n",
              "    </tr>\n",
              "    <tr>\n",
              "      <th>558832</th>\n",
              "      <td>2015</td>\n",
              "      <td>Kia</td>\n",
              "      <td>K900</td>\n",
              "      <td>Luxury</td>\n",
              "      <td>Sedan</td>\n",
              "      <td>NaN</td>\n",
              "      <td>knalw4d4xf6019304</td>\n",
              "      <td>in</td>\n",
              "      <td>4.5</td>\n",
              "      <td>18255.0</td>\n",
              "      <td>silver</td>\n",
              "      <td>black</td>\n",
              "      <td>avis corporation</td>\n",
              "      <td>35300</td>\n",
              "      <td>33000</td>\n",
              "      <td>Thu Jul 09 2015 07:00:00 GMT-0700 (PDT)</td>\n",
              "    </tr>\n",
              "    <tr>\n",
              "      <th>558833</th>\n",
              "      <td>2012</td>\n",
              "      <td>Ram</td>\n",
              "      <td>2500</td>\n",
              "      <td>Power Wagon</td>\n",
              "      <td>Crew Cab</td>\n",
              "      <td>automatic</td>\n",
              "      <td>3c6td5et6cg112407</td>\n",
              "      <td>wa</td>\n",
              "      <td>5</td>\n",
              "      <td>54393.0</td>\n",
              "      <td>white</td>\n",
              "      <td>black</td>\n",
              "      <td>i -5 uhlmann rv</td>\n",
              "      <td>30200</td>\n",
              "      <td>30800</td>\n",
              "      <td>Wed Jul 08 2015 09:30:00 GMT-0700 (PDT)</td>\n",
              "    </tr>\n",
              "    <tr>\n",
              "      <th>558834</th>\n",
              "      <td>2012</td>\n",
              "      <td>BMW</td>\n",
              "      <td>X5</td>\n",
              "      <td>xDrive35d</td>\n",
              "      <td>SUV</td>\n",
              "      <td>automatic</td>\n",
              "      <td>5uxzw0c58cl668465</td>\n",
              "      <td>ca</td>\n",
              "      <td>4.8</td>\n",
              "      <td>50561.0</td>\n",
              "      <td>black</td>\n",
              "      <td>black</td>\n",
              "      <td>financial services remarketing (lease)</td>\n",
              "      <td>29800</td>\n",
              "      <td>34000</td>\n",
              "      <td>Wed Jul 08 2015 09:30:00 GMT-0700 (PDT)</td>\n",
              "    </tr>\n",
              "    <tr>\n",
              "      <th>558835</th>\n",
              "      <td>2015</td>\n",
              "      <td>Nissan</td>\n",
              "      <td>Altima</td>\n",
              "      <td>2.5 S</td>\n",
              "      <td>sedan</td>\n",
              "      <td>automatic</td>\n",
              "      <td>1n4al3ap0fc216050</td>\n",
              "      <td>ga</td>\n",
              "      <td>3.8</td>\n",
              "      <td>16658.0</td>\n",
              "      <td>white</td>\n",
              "      <td>black</td>\n",
              "      <td>enterprise vehicle exchange / tra / rental / t...</td>\n",
              "      <td>15100</td>\n",
              "      <td>11100</td>\n",
              "      <td>Thu Jul 09 2015 06:45:00 GMT-0700 (PDT)</td>\n",
              "    </tr>\n",
              "    <tr>\n",
              "      <th>558836</th>\n",
              "      <td>2014</td>\n",
              "      <td>Ford</td>\n",
              "      <td>F-150</td>\n",
              "      <td>XLT</td>\n",
              "      <td>SuperCrew</td>\n",
              "      <td>automatic</td>\n",
              "      <td>1ftfw1et2eke87277</td>\n",
              "      <td>ca</td>\n",
              "      <td>3.4</td>\n",
              "      <td>15008.0</td>\n",
              "      <td>gray</td>\n",
              "      <td>gray</td>\n",
              "      <td>ford motor credit company,llc pd</td>\n",
              "      <td>29600</td>\n",
              "      <td>26700</td>\n",
              "      <td>Thu May 28 2015 05:30:00 GMT-0700 (PDT)</td>\n",
              "    </tr>\n",
              "  </tbody>\n",
              "</table>\n",
              "<p>558837 rows × 16 columns</p>\n",
              "</div>\n",
              "      <button class=\"colab-df-convert\" onclick=\"convertToInteractive('df-4b56d782-abfa-428f-870c-92fd53f8d1ef')\"\n",
              "              title=\"Convert this dataframe to an interactive table.\"\n",
              "              style=\"display:none;\">\n",
              "        \n",
              "  <svg xmlns=\"http://www.w3.org/2000/svg\" height=\"24px\"viewBox=\"0 0 24 24\"\n",
              "       width=\"24px\">\n",
              "    <path d=\"M0 0h24v24H0V0z\" fill=\"none\"/>\n",
              "    <path d=\"M18.56 5.44l.94 2.06.94-2.06 2.06-.94-2.06-.94-.94-2.06-.94 2.06-2.06.94zm-11 1L8.5 8.5l.94-2.06 2.06-.94-2.06-.94L8.5 2.5l-.94 2.06-2.06.94zm10 10l.94 2.06.94-2.06 2.06-.94-2.06-.94-.94-2.06-.94 2.06-2.06.94z\"/><path d=\"M17.41 7.96l-1.37-1.37c-.4-.4-.92-.59-1.43-.59-.52 0-1.04.2-1.43.59L10.3 9.45l-7.72 7.72c-.78.78-.78 2.05 0 2.83L4 21.41c.39.39.9.59 1.41.59.51 0 1.02-.2 1.41-.59l7.78-7.78 2.81-2.81c.8-.78.8-2.07 0-2.86zM5.41 20L4 18.59l7.72-7.72 1.47 1.35L5.41 20z\"/>\n",
              "  </svg>\n",
              "      </button>\n",
              "      \n",
              "  <style>\n",
              "    .colab-df-container {\n",
              "      display:flex;\n",
              "      flex-wrap:wrap;\n",
              "      gap: 12px;\n",
              "    }\n",
              "\n",
              "    .colab-df-convert {\n",
              "      background-color: #E8F0FE;\n",
              "      border: none;\n",
              "      border-radius: 50%;\n",
              "      cursor: pointer;\n",
              "      display: none;\n",
              "      fill: #1967D2;\n",
              "      height: 32px;\n",
              "      padding: 0 0 0 0;\n",
              "      width: 32px;\n",
              "    }\n",
              "\n",
              "    .colab-df-convert:hover {\n",
              "      background-color: #E2EBFA;\n",
              "      box-shadow: 0px 1px 2px rgba(60, 64, 67, 0.3), 0px 1px 3px 1px rgba(60, 64, 67, 0.15);\n",
              "      fill: #174EA6;\n",
              "    }\n",
              "\n",
              "    [theme=dark] .colab-df-convert {\n",
              "      background-color: #3B4455;\n",
              "      fill: #D2E3FC;\n",
              "    }\n",
              "\n",
              "    [theme=dark] .colab-df-convert:hover {\n",
              "      background-color: #434B5C;\n",
              "      box-shadow: 0px 1px 3px 1px rgba(0, 0, 0, 0.15);\n",
              "      filter: drop-shadow(0px 1px 2px rgba(0, 0, 0, 0.3));\n",
              "      fill: #FFFFFF;\n",
              "    }\n",
              "  </style>\n",
              "\n",
              "      <script>\n",
              "        const buttonEl =\n",
              "          document.querySelector('#df-4b56d782-abfa-428f-870c-92fd53f8d1ef button.colab-df-convert');\n",
              "        buttonEl.style.display =\n",
              "          google.colab.kernel.accessAllowed ? 'block' : 'none';\n",
              "\n",
              "        async function convertToInteractive(key) {\n",
              "          const element = document.querySelector('#df-4b56d782-abfa-428f-870c-92fd53f8d1ef');\n",
              "          const dataTable =\n",
              "            await google.colab.kernel.invokeFunction('convertToInteractive',\n",
              "                                                     [key], {});\n",
              "          if (!dataTable) return;\n",
              "\n",
              "          const docLinkHtml = 'Like what you see? Visit the ' +\n",
              "            '<a target=\"_blank\" href=https://colab.research.google.com/notebooks/data_table.ipynb>data table notebook</a>'\n",
              "            + ' to learn more about interactive tables.';\n",
              "          element.innerHTML = '';\n",
              "          dataTable['output_type'] = 'display_data';\n",
              "          await google.colab.output.renderOutput(dataTable, element);\n",
              "          const docLink = document.createElement('div');\n",
              "          docLink.innerHTML = docLinkHtml;\n",
              "          element.appendChild(docLink);\n",
              "        }\n",
              "      </script>\n",
              "    </div>\n",
              "  </div>\n",
              "  "
            ]
          },
          "metadata": {},
          "execution_count": 2
        }
      ]
    },
    {
      "cell_type": "markdown",
      "source": [
        "## Question 1. Determine the number of missing values in each column."
      ],
      "metadata": {
        "id": "5bOTvjvxGwaN"
      }
    },
    {
      "cell_type": "code",
      "source": [
        "df.isna().sum()"
      ],
      "metadata": {
        "colab": {
          "base_uri": "https://localhost:8080/"
        },
        "id": "YDvO4qzgGm2Z",
        "outputId": "38d8b1a6-a9a0-4bcb-d1c9-58db36e4063a"
      },
      "execution_count": 3,
      "outputs": [
        {
          "output_type": "execute_result",
          "data": {
            "text/plain": [
              "year                0\n",
              "make            10301\n",
              "model           10399\n",
              "trim            10651\n",
              "body            13195\n",
              "transmission    65353\n",
              "vin                 4\n",
              "state               0\n",
              "condition       11794\n",
              "odometer           94\n",
              "color             749\n",
              "interior          749\n",
              "seller              0\n",
              "mmr                 0\n",
              "sellingprice        0\n",
              "saledate            0\n",
              "dtype: int64"
            ]
          },
          "metadata": {},
          "execution_count": 3
        }
      ]
    },
    {
      "cell_type": "markdown",
      "source": [
        "As we can see there are several rows with null values in the base dataset. We will be cleaning them next as the follow the steps."
      ],
      "metadata": {
        "id": "trdK8OoE7448"
      }
    },
    {
      "cell_type": "markdown",
      "source": [
        "## Question 2. Check the data types."
      ],
      "metadata": {
        "id": "i9r8czDYHrYH"
      }
    },
    {
      "cell_type": "code",
      "source": [
        "df.info()"
      ],
      "metadata": {
        "colab": {
          "base_uri": "https://localhost:8080/"
        },
        "id": "IGLk2-cZHUCG",
        "outputId": "ea61fa7e-df07-4d01-a5ec-7a60802d6c19"
      },
      "execution_count": 4,
      "outputs": [
        {
          "output_type": "stream",
          "name": "stdout",
          "text": [
            "<class 'pandas.core.frame.DataFrame'>\n",
            "RangeIndex: 558837 entries, 0 to 558836\n",
            "Data columns (total 16 columns):\n",
            " #   Column        Non-Null Count   Dtype  \n",
            "---  ------        --------------   -----  \n",
            " 0   year          558837 non-null  int64  \n",
            " 1   make          548536 non-null  object \n",
            " 2   model         548438 non-null  object \n",
            " 3   trim          548186 non-null  object \n",
            " 4   body          545642 non-null  object \n",
            " 5   transmission  493484 non-null  object \n",
            " 6   vin           558833 non-null  object \n",
            " 7   state         558837 non-null  object \n",
            " 8   condition     547043 non-null  object \n",
            " 9   odometer      558743 non-null  float64\n",
            " 10  color         558088 non-null  object \n",
            " 11  interior      558088 non-null  object \n",
            " 12  seller        558837 non-null  object \n",
            " 13  mmr           558837 non-null  object \n",
            " 14  sellingprice  558837 non-null  int64  \n",
            " 15  saledate      558837 non-null  object \n",
            "dtypes: float64(1), int64(2), object(13)\n",
            "memory usage: 68.2+ MB\n"
          ]
        }
      ]
    },
    {
      "cell_type": "code",
      "source": [
        "df1 = df.convert_dtypes()\n",
        "df1['saledate'] = pd.to_datetime(df1['saledate'], errors='coerce')\n",
        "df1['mmr'] = pd.to_numeric(df1['mmr'], errors='coerce')\n",
        "df1['condition'] = pd.to_numeric(df1['condition'], errors='coerce')"
      ],
      "metadata": {
        "id": "oSzZqLV4H5G-"
      },
      "execution_count": 5,
      "outputs": []
    },
    {
      "cell_type": "code",
      "source": [
        "df1.info()"
      ],
      "metadata": {
        "colab": {
          "base_uri": "https://localhost:8080/"
        },
        "id": "Zh3-csHXNfHV",
        "outputId": "7eebe798-2f52-4777-984a-a68423bc9fbd"
      },
      "execution_count": 6,
      "outputs": [
        {
          "output_type": "stream",
          "name": "stdout",
          "text": [
            "<class 'pandas.core.frame.DataFrame'>\n",
            "RangeIndex: 558837 entries, 0 to 558836\n",
            "Data columns (total 16 columns):\n",
            " #   Column        Non-Null Count   Dtype  \n",
            "---  ------        --------------   -----  \n",
            " 0   year          558837 non-null  Int64  \n",
            " 1   make          548536 non-null  string \n",
            " 2   model         548438 non-null  string \n",
            " 3   trim          548186 non-null  string \n",
            " 4   body          545642 non-null  string \n",
            " 5   transmission  493484 non-null  string \n",
            " 6   vin           558833 non-null  string \n",
            " 7   state         558837 non-null  string \n",
            " 8   condition     547017 non-null  float64\n",
            " 9   odometer      558743 non-null  Float64\n",
            " 10  color         558088 non-null  string \n",
            " 11  interior      558088 non-null  string \n",
            " 12  seller        558837 non-null  string \n",
            " 13  mmr           558811 non-null  float64\n",
            " 14  sellingprice  558837 non-null  Int64  \n",
            " 15  saledate      558811 non-null  object \n",
            "dtypes: Float64(1), Int64(2), float64(2), object(1), string(10)\n",
            "memory usage: 69.8+ MB\n"
          ]
        }
      ]
    },
    {
      "cell_type": "markdown",
      "source": [
        "Here we have converted the datatypes to there respective datatypes, most of them were objects that were changed to string , and few coloumns namely mmr, conditon were also changed to string by using .tonumeric we can change them to our intrested datatypes. Here I changed them to float."
      ],
      "metadata": {
        "id": "LZXo8S2V8Gh3"
      }
    },
    {
      "cell_type": "markdown",
      "source": [
        "# Question 3. Analyze the make column.\n",
        "\n",
        "\n",
        "*   Comment on what you observe.\n",
        "*   Clean the column to reduce the number of unique values to as few as reasonably possible (no hard coding).\n",
        "\n",
        "\n",
        "\n",
        "Hint: What do you notice if you run this:\n",
        "\n",
        "  makes = df.make.unique().tolist()\n",
        "\n",
        "  makes = [str(x).lower() for x in makes]\n",
        "\n",
        "  sorted(makes)"
      ],
      "metadata": {
        "id": "Uh0G4iV0Qbf0"
      }
    },
    {
      "cell_type": "code",
      "source": [
        "makes = df.make.unique().tolist()\n",
        "\n",
        "makes = [str(x).lower() for x in makes]\n",
        "\n",
        "sorted(makes)"
      ],
      "metadata": {
        "colab": {
          "base_uri": "https://localhost:8080/"
        },
        "id": "uKqCypWoPxu1",
        "outputId": "5d6897cc-25ef-4d62-a3d1-99a4fc1052e1"
      },
      "execution_count": 7,
      "outputs": [
        {
          "output_type": "execute_result",
          "data": {
            "text/plain": [
              "['acura',\n",
              " 'acura',\n",
              " 'airstream',\n",
              " 'aston martin',\n",
              " 'audi',\n",
              " 'audi',\n",
              " 'bentley',\n",
              " 'bmw',\n",
              " 'bmw',\n",
              " 'buick',\n",
              " 'buick',\n",
              " 'cadillac',\n",
              " 'cadillac',\n",
              " 'chev truck',\n",
              " 'chevrolet',\n",
              " 'chevrolet',\n",
              " 'chrysler',\n",
              " 'chrysler',\n",
              " 'daewoo',\n",
              " 'dodge',\n",
              " 'dodge',\n",
              " 'dodge tk',\n",
              " 'dot',\n",
              " 'ferrari',\n",
              " 'fiat',\n",
              " 'fisker',\n",
              " 'ford',\n",
              " 'ford',\n",
              " 'ford tk',\n",
              " 'ford truck',\n",
              " 'geo',\n",
              " 'gmc',\n",
              " 'gmc',\n",
              " 'gmc truck',\n",
              " 'honda',\n",
              " 'honda',\n",
              " 'hummer',\n",
              " 'hyundai',\n",
              " 'hyundai',\n",
              " 'hyundai tk',\n",
              " 'infiniti',\n",
              " 'isuzu',\n",
              " 'jaguar',\n",
              " 'jeep',\n",
              " 'jeep',\n",
              " 'kia',\n",
              " 'kia',\n",
              " 'lamborghini',\n",
              " 'land rover',\n",
              " 'land rover',\n",
              " 'landrover',\n",
              " 'lexus',\n",
              " 'lexus',\n",
              " 'lincoln',\n",
              " 'lincoln',\n",
              " 'lotus',\n",
              " 'maserati',\n",
              " 'maserati',\n",
              " 'mazda',\n",
              " 'mazda',\n",
              " 'mazda tk',\n",
              " 'mercedes',\n",
              " 'mercedes-b',\n",
              " 'mercedes-benz',\n",
              " 'mercury',\n",
              " 'mercury',\n",
              " 'mini',\n",
              " 'mitsubishi',\n",
              " 'mitsubishi',\n",
              " 'nan',\n",
              " 'nissan',\n",
              " 'nissan',\n",
              " 'oldsmobile',\n",
              " 'oldsmobile',\n",
              " 'plymouth',\n",
              " 'plymouth',\n",
              " 'pontiac',\n",
              " 'pontiac',\n",
              " 'porsche',\n",
              " 'porsche',\n",
              " 'ram',\n",
              " 'rolls-royce',\n",
              " 'saab',\n",
              " 'saturn',\n",
              " 'scion',\n",
              " 'smart',\n",
              " 'subaru',\n",
              " 'subaru',\n",
              " 'suzuki',\n",
              " 'suzuki',\n",
              " 'tesla',\n",
              " 'toyota',\n",
              " 'toyota',\n",
              " 'volkswagen',\n",
              " 'volkswagen',\n",
              " 'volvo',\n",
              " 'vw']"
            ]
          },
          "metadata": {},
          "execution_count": 7
        }
      ]
    },
    {
      "cell_type": "markdown",
      "source": [
        "Here we can observe that we have taken make column and took the unique values and stored into a list and then its converted to lower case and sorted alphabetically."
      ],
      "metadata": {
        "id": "2OUaQAeXRATj"
      }
    },
    {
      "cell_type": "code",
      "source": [
        "df1 = df1.dropna()"
      ],
      "metadata": {
        "id": "xsZuSnkFiTyf"
      },
      "execution_count": 8,
      "outputs": []
    },
    {
      "cell_type": "code",
      "source": [
        "df1['make'] = df1['make'].str.lower()"
      ],
      "metadata": {
        "id": "_MhQ56eNiQPh"
      },
      "execution_count": 9,
      "outputs": []
    },
    {
      "cell_type": "code",
      "source": [
        "df1['make'].unique()"
      ],
      "metadata": {
        "colab": {
          "base_uri": "https://localhost:8080/"
        },
        "id": "F89dvbdlaZMy",
        "outputId": "434ab89f-b379-4275-e37c-cabed2e8a886"
      },
      "execution_count": 10,
      "outputs": [
        {
          "output_type": "execute_result",
          "data": {
            "text/plain": [
              "<StringArray>\n",
              "[          'kia',           'bmw',         'volvo',        'nissan',\n",
              "     'chevrolet',          'audi',          'ford',      'cadillac',\n",
              "         'acura',         'lexus',       'hyundai',         'buick',\n",
              "      'infiniti',          'jeep', 'mercedes-benz',    'mitsubishi',\n",
              "         'mazda',          'mini',    'land rover',       'lincoln',\n",
              "        'jaguar',    'volkswagen',        'toyota',        'subaru',\n",
              "         'scion',       'porsche',         'dodge',          'fiat',\n",
              "      'chrysler',       'ferrari',         'honda',           'gmc',\n",
              "           'ram',         'smart',       'bentley',       'pontiac',\n",
              "        'saturn',      'maserati',       'mercury',        'hummer',\n",
              "          'saab',        'suzuki',    'oldsmobile',   'rolls-royce',\n",
              "         'isuzu',      'plymouth',         'tesla',  'aston martin',\n",
              "           'geo',        'fisker',        'daewoo',   'lamborghini',\n",
              "         'lotus']\n",
              "Length: 53, dtype: string"
            ]
          },
          "metadata": {},
          "execution_count": 10
        }
      ]
    },
    {
      "cell_type": "markdown",
      "source": [
        "For cleaning of the make column , I have not done any hard coding just changed the values to lower case and removed all the null values from the dataset.You can see no value in make is repeated or half names are reused ."
      ],
      "metadata": {
        "id": "hp61JEsD80AI"
      }
    },
    {
      "cell_type": "markdown",
      "source": [
        "# Question 4. Analyze the relationship between the wholeprice mmr and the salesprice.\n",
        "\n",
        "\n",
        "*   What is the overall correlation?\n",
        "*   What happens to the correlation as you increase the maximum selling pricewindow (e.g., 0-10000, 0-20000,...)?\n",
        "* Create a scatter plot with the relationship.\n",
        "* Create a graph that shows how the correlation changes."
      ],
      "metadata": {
        "id": "TszeLWYMjHU2"
      }
    },
    {
      "cell_type": "code",
      "source": [
        "df1['sellingprice'] = df1['sellingprice'].astype(float)"
      ],
      "metadata": {
        "id": "oCaRczZ4Zeqv"
      },
      "execution_count": 11,
      "outputs": []
    },
    {
      "cell_type": "markdown",
      "source": [
        "I had to change the datatype of sellingprice as to find the correlation we need to have the values in float."
      ],
      "metadata": {
        "id": "73qlrPmy9gVa"
      }
    },
    {
      "cell_type": "markdown",
      "source": [
        "###What is the overall correlation?"
      ],
      "metadata": {
        "id": "i9EL1wfhfGqE"
      }
    },
    {
      "cell_type": "code",
      "source": [
        "corr = df1['mmr'].corr(df1['sellingprice'])\n",
        "print('The overall correlation is {} .'.format(corr))"
      ],
      "metadata": {
        "colab": {
          "base_uri": "https://localhost:8080/"
        },
        "id": "g7kbBEnKYsTN",
        "outputId": "b69d7309-d271-433a-baaf-c5b9c8a7e24e"
      },
      "execution_count": 12,
      "outputs": [
        {
          "output_type": "stream",
          "name": "stdout",
          "text": [
            "The overall correlation is 0.9834919120611126 .\n"
          ]
        }
      ]
    },
    {
      "cell_type": "code",
      "source": [
        "df1.corr()"
      ],
      "metadata": {
        "colab": {
          "base_uri": "https://localhost:8080/",
          "height": 206
        },
        "id": "ATzFao3merGw",
        "outputId": "bca25ad7-0352-44dd-c4c4-a7c57650378f"
      },
      "execution_count": 13,
      "outputs": [
        {
          "output_type": "execute_result",
          "data": {
            "text/plain": [
              "                  year  condition  odometer       mmr  sellingprice\n",
              "year          1.000000   0.548307 -0.773104  0.588605      0.578918\n",
              "condition     0.548307   1.000000 -0.537544  0.481460      0.535990\n",
              "odometer     -0.773104  -0.537544  1.000000 -0.582648     -0.577385\n",
              "mmr           0.588605   0.481460 -0.582648  1.000000      0.983492\n",
              "sellingprice  0.578918   0.535990 -0.577385  0.983492      1.000000"
            ],
            "text/html": [
              "\n",
              "  <div id=\"df-1fba7c94-512e-4ae8-b056-e2de9903e556\">\n",
              "    <div class=\"colab-df-container\">\n",
              "      <div>\n",
              "<style scoped>\n",
              "    .dataframe tbody tr th:only-of-type {\n",
              "        vertical-align: middle;\n",
              "    }\n",
              "\n",
              "    .dataframe tbody tr th {\n",
              "        vertical-align: top;\n",
              "    }\n",
              "\n",
              "    .dataframe thead th {\n",
              "        text-align: right;\n",
              "    }\n",
              "</style>\n",
              "<table border=\"1\" class=\"dataframe\">\n",
              "  <thead>\n",
              "    <tr style=\"text-align: right;\">\n",
              "      <th></th>\n",
              "      <th>year</th>\n",
              "      <th>condition</th>\n",
              "      <th>odometer</th>\n",
              "      <th>mmr</th>\n",
              "      <th>sellingprice</th>\n",
              "    </tr>\n",
              "  </thead>\n",
              "  <tbody>\n",
              "    <tr>\n",
              "      <th>year</th>\n",
              "      <td>1.000000</td>\n",
              "      <td>0.548307</td>\n",
              "      <td>-0.773104</td>\n",
              "      <td>0.588605</td>\n",
              "      <td>0.578918</td>\n",
              "    </tr>\n",
              "    <tr>\n",
              "      <th>condition</th>\n",
              "      <td>0.548307</td>\n",
              "      <td>1.000000</td>\n",
              "      <td>-0.537544</td>\n",
              "      <td>0.481460</td>\n",
              "      <td>0.535990</td>\n",
              "    </tr>\n",
              "    <tr>\n",
              "      <th>odometer</th>\n",
              "      <td>-0.773104</td>\n",
              "      <td>-0.537544</td>\n",
              "      <td>1.000000</td>\n",
              "      <td>-0.582648</td>\n",
              "      <td>-0.577385</td>\n",
              "    </tr>\n",
              "    <tr>\n",
              "      <th>mmr</th>\n",
              "      <td>0.588605</td>\n",
              "      <td>0.481460</td>\n",
              "      <td>-0.582648</td>\n",
              "      <td>1.000000</td>\n",
              "      <td>0.983492</td>\n",
              "    </tr>\n",
              "    <tr>\n",
              "      <th>sellingprice</th>\n",
              "      <td>0.578918</td>\n",
              "      <td>0.535990</td>\n",
              "      <td>-0.577385</td>\n",
              "      <td>0.983492</td>\n",
              "      <td>1.000000</td>\n",
              "    </tr>\n",
              "  </tbody>\n",
              "</table>\n",
              "</div>\n",
              "      <button class=\"colab-df-convert\" onclick=\"convertToInteractive('df-1fba7c94-512e-4ae8-b056-e2de9903e556')\"\n",
              "              title=\"Convert this dataframe to an interactive table.\"\n",
              "              style=\"display:none;\">\n",
              "        \n",
              "  <svg xmlns=\"http://www.w3.org/2000/svg\" height=\"24px\"viewBox=\"0 0 24 24\"\n",
              "       width=\"24px\">\n",
              "    <path d=\"M0 0h24v24H0V0z\" fill=\"none\"/>\n",
              "    <path d=\"M18.56 5.44l.94 2.06.94-2.06 2.06-.94-2.06-.94-.94-2.06-.94 2.06-2.06.94zm-11 1L8.5 8.5l.94-2.06 2.06-.94-2.06-.94L8.5 2.5l-.94 2.06-2.06.94zm10 10l.94 2.06.94-2.06 2.06-.94-2.06-.94-.94-2.06-.94 2.06-2.06.94z\"/><path d=\"M17.41 7.96l-1.37-1.37c-.4-.4-.92-.59-1.43-.59-.52 0-1.04.2-1.43.59L10.3 9.45l-7.72 7.72c-.78.78-.78 2.05 0 2.83L4 21.41c.39.39.9.59 1.41.59.51 0 1.02-.2 1.41-.59l7.78-7.78 2.81-2.81c.8-.78.8-2.07 0-2.86zM5.41 20L4 18.59l7.72-7.72 1.47 1.35L5.41 20z\"/>\n",
              "  </svg>\n",
              "      </button>\n",
              "      \n",
              "  <style>\n",
              "    .colab-df-container {\n",
              "      display:flex;\n",
              "      flex-wrap:wrap;\n",
              "      gap: 12px;\n",
              "    }\n",
              "\n",
              "    .colab-df-convert {\n",
              "      background-color: #E8F0FE;\n",
              "      border: none;\n",
              "      border-radius: 50%;\n",
              "      cursor: pointer;\n",
              "      display: none;\n",
              "      fill: #1967D2;\n",
              "      height: 32px;\n",
              "      padding: 0 0 0 0;\n",
              "      width: 32px;\n",
              "    }\n",
              "\n",
              "    .colab-df-convert:hover {\n",
              "      background-color: #E2EBFA;\n",
              "      box-shadow: 0px 1px 2px rgba(60, 64, 67, 0.3), 0px 1px 3px 1px rgba(60, 64, 67, 0.15);\n",
              "      fill: #174EA6;\n",
              "    }\n",
              "\n",
              "    [theme=dark] .colab-df-convert {\n",
              "      background-color: #3B4455;\n",
              "      fill: #D2E3FC;\n",
              "    }\n",
              "\n",
              "    [theme=dark] .colab-df-convert:hover {\n",
              "      background-color: #434B5C;\n",
              "      box-shadow: 0px 1px 3px 1px rgba(0, 0, 0, 0.15);\n",
              "      filter: drop-shadow(0px 1px 2px rgba(0, 0, 0, 0.3));\n",
              "      fill: #FFFFFF;\n",
              "    }\n",
              "  </style>\n",
              "\n",
              "      <script>\n",
              "        const buttonEl =\n",
              "          document.querySelector('#df-1fba7c94-512e-4ae8-b056-e2de9903e556 button.colab-df-convert');\n",
              "        buttonEl.style.display =\n",
              "          google.colab.kernel.accessAllowed ? 'block' : 'none';\n",
              "\n",
              "        async function convertToInteractive(key) {\n",
              "          const element = document.querySelector('#df-1fba7c94-512e-4ae8-b056-e2de9903e556');\n",
              "          const dataTable =\n",
              "            await google.colab.kernel.invokeFunction('convertToInteractive',\n",
              "                                                     [key], {});\n",
              "          if (!dataTable) return;\n",
              "\n",
              "          const docLinkHtml = 'Like what you see? Visit the ' +\n",
              "            '<a target=\"_blank\" href=https://colab.research.google.com/notebooks/data_table.ipynb>data table notebook</a>'\n",
              "            + ' to learn more about interactive tables.';\n",
              "          element.innerHTML = '';\n",
              "          dataTable['output_type'] = 'display_data';\n",
              "          await google.colab.output.renderOutput(dataTable, element);\n",
              "          const docLink = document.createElement('div');\n",
              "          docLink.innerHTML = docLinkHtml;\n",
              "          element.appendChild(docLink);\n",
              "        }\n",
              "      </script>\n",
              "    </div>\n",
              "  </div>\n",
              "  "
            ]
          },
          "metadata": {},
          "execution_count": 13
        }
      ]
    },
    {
      "cell_type": "markdown",
      "source": [
        "### What happens to the correlation as you increase the maximum selling pricewindow (e.g., 0-10000, 0-20000,...)?"
      ],
      "metadata": {
        "id": "aSScf-etqIcV"
      }
    },
    {
      "cell_type": "code",
      "source": [
        "upper = np.arange(int(df1['sellingprice'].min())+9999,int(df1['sellingprice'].max()),10000)\n",
        "upper = upper.tolist()\n",
        "lower = 0\n",
        "i = 0\n",
        "store_values_corr = []\n",
        "while i < len(upper):\n",
        "    target = df1[(df1['sellingprice'] >= lower) & (df1['sellingprice'] < upper[i])]\n",
        "    corr = target['mmr'].corr(target['sellingprice'])\n",
        "    print(\"Correlation for selling price {} - {}\".format(lower,upper[i]) , \"=\", corr)\n",
        "    store_values_corr.append(corr)\n",
        "    i = i + 1"
      ],
      "metadata": {
        "colab": {
          "base_uri": "https://localhost:8080/"
        },
        "id": "G1n0qWyhzGuC",
        "outputId": "92e76981-4d23-4ed3-b502-1194558153de"
      },
      "execution_count": 14,
      "outputs": [
        {
          "output_type": "stream",
          "name": "stdout",
          "text": [
            "Correlation for selling price 0 - 10000 = 0.869899697254103\n",
            "Correlation for selling price 0 - 20000 = 0.9575937342989809\n",
            "Correlation for selling price 0 - 30000 = 0.9742518584493943\n",
            "Correlation for selling price 0 - 40000 = 0.9790894917528395\n",
            "Correlation for selling price 0 - 50000 = 0.9812265610478216\n",
            "Correlation for selling price 0 - 60000 = 0.9822357896270331\n",
            "Correlation for selling price 0 - 70000 = 0.9826291508720735\n",
            "Correlation for selling price 0 - 80000 = 0.9830672726672509\n",
            "Correlation for selling price 0 - 90000 = 0.9832895493891461\n",
            "Correlation for selling price 0 - 100000 = 0.9834639790409417\n",
            "Correlation for selling price 0 - 110000 = 0.9834677672035944\n",
            "Correlation for selling price 0 - 120000 = 0.9835562586898337\n",
            "Correlation for selling price 0 - 130000 = 0.9836454308657258\n",
            "Correlation for selling price 0 - 140000 = 0.9837233783775134\n",
            "Correlation for selling price 0 - 150000 = 0.9838125395837937\n",
            "Correlation for selling price 0 - 160000 = 0.9838783276418934\n",
            "Correlation for selling price 0 - 170000 = 0.9839468716382541\n",
            "Correlation for selling price 0 - 180000 = 0.9839650275064494\n",
            "Correlation for selling price 0 - 190000 = 0.9839755811357568\n",
            "Correlation for selling price 0 - 200000 = 0.9839755811357568\n",
            "Correlation for selling price 0 - 210000 = 0.9839755811357568\n",
            "Correlation for selling price 0 - 220000 = 0.9839755811357568\n"
          ]
        }
      ]
    },
    {
      "cell_type": "markdown",
      "source": [
        "As we increase the maximum selling price window, the correlation coefficient tends to increase as well. "
      ],
      "metadata": {
        "id": "kq_05ZIIscBO"
      }
    },
    {
      "cell_type": "markdown",
      "source": [
        "### Create a scatter plot of wholeprice_mmr versus salesprice"
      ],
      "metadata": {
        "id": "0y3rRCHGhOob"
      }
    },
    {
      "cell_type": "code",
      "source": [
        "plt.scatter(df1['mmr'], df1['sellingprice'])\n",
        "plt.title('Scatter plot of wholeprice versus salesprice')\n",
        "plt.xlabel('Wholeprice MMR')\n",
        "plt.ylabel('Salesprice')\n",
        "plt.show()"
      ],
      "metadata": {
        "colab": {
          "base_uri": "https://localhost:8080/",
          "height": 295
        },
        "id": "R-_601yyiKMl",
        "outputId": "45b9db28-a8bb-412f-9724-948130a21ec6"
      },
      "execution_count": 15,
      "outputs": [
        {
          "output_type": "display_data",
          "data": {
            "text/plain": [
              "<Figure size 432x288 with 1 Axes>"
            ],
            "image/png": "[encoded data removed]"
          },
          "metadata": {
            "needs_background": "light"
          }
        }
      ]
    },
    {
      "cell_type": "markdown",
      "source": [
        "As we have seen the increase in correlation for selling price from the above output, which shows a clear upward trend in below scatter plot."
      ],
      "metadata": {
        "id": "m5HWu3JQtPbt"
      }
    },
    {
      "cell_type": "markdown",
      "source": [
        "### Create a graph that shows how the correlation changes."
      ],
      "metadata": {
        "id": "_h9uJBmqt4xI"
      }
    },
    {
      "cell_type": "code",
      "source": [
        "plt.figure(figsize=(15,10))\n",
        "plt.plot(upper, store_values_corr , 's-g')\n",
        "plt.xlabel('Maximum selling price')\n",
        "plt.ylabel('Correlation coefficient')\n",
        "plt.title('Correlation between mmr and sellingprice for different price windows')\n",
        "plt.show()"
      ],
      "metadata": {
        "colab": {
          "base_uri": "https://localhost:8080/",
          "height": 579
        },
        "id": "OQbfJbxit1v9",
        "outputId": "e3c53045-03c4-4033-9dc1-1d281a5c5bc9"
      },
      "execution_count": 16,
      "outputs": [
        {
          "output_type": "display_data",
          "data": {
            "text/plain": [
              "<Figure size 1080x720 with 1 Axes>"
            ],
            "image/png": "[encoded data removed]"
          },
          "metadata": {
            "needs_background": "light"
          }
        }
      ]
    },
    {
      "cell_type": "markdown",
      "source": [
        "We can see the increament in values of correlation as the selling price increasing."
      ],
      "metadata": {
        "id": "T36H1Q6E9uRv"
      }
    },
    {
      "cell_type": "markdown",
      "source": [
        "# Question 5. How does the distribution of salesprice vary by make for cars made between 2010-2015?\n",
        "\n",
        "\n",
        "*   Use the 10 most common makes (your cleaned version of this column).\n",
        "*   Create a graph that answers this question.\n",
        "\n",
        "\n"
      ],
      "metadata": {
        "id": "oHkx5YijoBTS"
      }
    },
    {
      "cell_type": "code",
      "source": [
        "df1 = df1[(df1['year']>=2010) & (df1['year']<=2015)]\n",
        "top_10 = df1['make'].value_counts().head(10)\n",
        "r = top_10.index.tolist()\n",
        "r"
      ],
      "metadata": {
        "id": "omUU0u2W1UWs",
        "colab": {
          "base_uri": "https://localhost:8080/"
        },
        "outputId": "fda6e2fb-e8f4-40cf-b95c-417fbc2b12f8"
      },
      "execution_count": 17,
      "outputs": [
        {
          "output_type": "execute_result",
          "data": {
            "text/plain": [
              "['ford',\n",
              " 'nissan',\n",
              " 'chevrolet',\n",
              " 'toyota',\n",
              " 'dodge',\n",
              " 'hyundai',\n",
              " 'honda',\n",
              " 'kia',\n",
              " 'infiniti',\n",
              " 'bmw']"
            ]
          },
          "metadata": {},
          "execution_count": 17
        }
      ]
    },
    {
      "cell_type": "markdown",
      "source": [
        "As we have recently cleaned the dataset, we have set the year between 2010 and 2015 and took the top 10 maximum values of the selling counts that are most common."
      ],
      "metadata": {
        "id": "Tjfe7DPC-Gx_"
      }
    },
    {
      "cell_type": "code",
      "source": [
        "df1 = df1[df1['make'].isin(r)]\n",
        "Data = df1.groupby(\"make\")[[\"sellingprice\"]].mean()\n",
        "Data"
      ],
      "metadata": {
        "id": "aumHIMiRzqo6",
        "colab": {
          "base_uri": "https://localhost:8080/",
          "height": 394
        },
        "outputId": "521789e3-1e96-4cc5-bcc8-b298fd8ca6ae"
      },
      "execution_count": 22,
      "outputs": [
        {
          "output_type": "execute_result",
          "data": {
            "text/plain": [
              "           sellingprice\n",
              "make                   \n",
              "bmw        30726.780165\n",
              "chevrolet  15060.303371\n",
              "dodge      13576.685031\n",
              "ford       17221.720869\n",
              "honda      15060.521700\n",
              "hyundai    12637.229258\n",
              "infiniti   22866.377021\n",
              "kia        13240.816229\n",
              "nissan     13556.145282\n",
              "toyota     15224.247866"
            ],
            "text/html": [
              "\n",
              "  <div id=\"df-e9047b8e-eaf6-436b-b056-2bc46e7e5333\">\n",
              "    <div class=\"colab-df-container\">\n",
              "      <div>\n",
              "<style scoped>\n",
              "    .dataframe tbody tr th:only-of-type {\n",
              "        vertical-align: middle;\n",
              "    }\n",
              "\n",
              "    .dataframe tbody tr th {\n",
              "        vertical-align: top;\n",
              "    }\n",
              "\n",
              "    .dataframe thead th {\n",
              "        text-align: right;\n",
              "    }\n",
              "</style>\n",
              "<table border=\"1\" class=\"dataframe\">\n",
              "  <thead>\n",
              "    <tr style=\"text-align: right;\">\n",
              "      <th></th>\n",
              "      <th>sellingprice</th>\n",
              "    </tr>\n",
              "    <tr>\n",
              "      <th>make</th>\n",
              "      <th></th>\n",
              "    </tr>\n",
              "  </thead>\n",
              "  <tbody>\n",
              "    <tr>\n",
              "      <th>bmw</th>\n",
              "      <td>30726.780165</td>\n",
              "    </tr>\n",
              "    <tr>\n",
              "      <th>chevrolet</th>\n",
              "      <td>15060.303371</td>\n",
              "    </tr>\n",
              "    <tr>\n",
              "      <th>dodge</th>\n",
              "      <td>13576.685031</td>\n",
              "    </tr>\n",
              "    <tr>\n",
              "      <th>ford</th>\n",
              "      <td>17221.720869</td>\n",
              "    </tr>\n",
              "    <tr>\n",
              "      <th>honda</th>\n",
              "      <td>15060.521700</td>\n",
              "    </tr>\n",
              "    <tr>\n",
              "      <th>hyundai</th>\n",
              "      <td>12637.229258</td>\n",
              "    </tr>\n",
              "    <tr>\n",
              "      <th>infiniti</th>\n",
              "      <td>22866.377021</td>\n",
              "    </tr>\n",
              "    <tr>\n",
              "      <th>kia</th>\n",
              "      <td>13240.816229</td>\n",
              "    </tr>\n",
              "    <tr>\n",
              "      <th>nissan</th>\n",
              "      <td>13556.145282</td>\n",
              "    </tr>\n",
              "    <tr>\n",
              "      <th>toyota</th>\n",
              "      <td>15224.247866</td>\n",
              "    </tr>\n",
              "  </tbody>\n",
              "</table>\n",
              "</div>\n",
              "      <button class=\"colab-df-convert\" onclick=\"convertToInteractive('df-e9047b8e-eaf6-436b-b056-2bc46e7e5333')\"\n",
              "              title=\"Convert this dataframe to an interactive table.\"\n",
              "              style=\"display:none;\">\n",
              "        \n",
              "  <svg xmlns=\"http://www.w3.org/2000/svg\" height=\"24px\"viewBox=\"0 0 24 24\"\n",
              "       width=\"24px\">\n",
              "    <path d=\"M0 0h24v24H0V0z\" fill=\"none\"/>\n",
              "    <path d=\"M18.56 5.44l.94 2.06.94-2.06 2.06-.94-2.06-.94-.94-2.06-.94 2.06-2.06.94zm-11 1L8.5 8.5l.94-2.06 2.06-.94-2.06-.94L8.5 2.5l-.94 2.06-2.06.94zm10 10l.94 2.06.94-2.06 2.06-.94-2.06-.94-.94-2.06-.94 2.06-2.06.94z\"/><path d=\"M17.41 7.96l-1.37-1.37c-.4-.4-.92-.59-1.43-.59-.52 0-1.04.2-1.43.59L10.3 9.45l-7.72 7.72c-.78.78-.78 2.05 0 2.83L4 21.41c.39.39.9.59 1.41.59.51 0 1.02-.2 1.41-.59l7.78-7.78 2.81-2.81c.8-.78.8-2.07 0-2.86zM5.41 20L4 18.59l7.72-7.72 1.47 1.35L5.41 20z\"/>\n",
              "  </svg>\n",
              "      </button>\n",
              "      \n",
              "  <style>\n",
              "    .colab-df-container {\n",
              "      display:flex;\n",
              "      flex-wrap:wrap;\n",
              "      gap: 12px;\n",
              "    }\n",
              "\n",
              "    .colab-df-convert {\n",
              "      background-color: #E8F0FE;\n",
              "      border: none;\n",
              "      border-radius: 50%;\n",
              "      cursor: pointer;\n",
              "      display: none;\n",
              "      fill: #1967D2;\n",
              "      height: 32px;\n",
              "      padding: 0 0 0 0;\n",
              "      width: 32px;\n",
              "    }\n",
              "\n",
              "    .colab-df-convert:hover {\n",
              "      background-color: #E2EBFA;\n",
              "      box-shadow: 0px 1px 2px rgba(60, 64, 67, 0.3), 0px 1px 3px 1px rgba(60, 64, 67, 0.15);\n",
              "      fill: #174EA6;\n",
              "    }\n",
              "\n",
              "    [theme=dark] .colab-df-convert {\n",
              "      background-color: #3B4455;\n",
              "      fill: #D2E3FC;\n",
              "    }\n",
              "\n",
              "    [theme=dark] .colab-df-convert:hover {\n",
              "      background-color: #434B5C;\n",
              "      box-shadow: 0px 1px 3px 1px rgba(0, 0, 0, 0.15);\n",
              "      filter: drop-shadow(0px 1px 2px rgba(0, 0, 0, 0.3));\n",
              "      fill: #FFFFFF;\n",
              "    }\n",
              "  </style>\n",
              "\n",
              "      <script>\n",
              "        const buttonEl =\n",
              "          document.querySelector('#df-e9047b8e-eaf6-436b-b056-2bc46e7e5333 button.colab-df-convert');\n",
              "        buttonEl.style.display =\n",
              "          google.colab.kernel.accessAllowed ? 'block' : 'none';\n",
              "\n",
              "        async function convertToInteractive(key) {\n",
              "          const element = document.querySelector('#df-e9047b8e-eaf6-436b-b056-2bc46e7e5333');\n",
              "          const dataTable =\n",
              "            await google.colab.kernel.invokeFunction('convertToInteractive',\n",
              "                                                     [key], {});\n",
              "          if (!dataTable) return;\n",
              "\n",
              "          const docLinkHtml = 'Like what you see? Visit the ' +\n",
              "            '<a target=\"_blank\" href=https://colab.research.google.com/notebooks/data_table.ipynb>data table notebook</a>'\n",
              "            + ' to learn more about interactive tables.';\n",
              "          element.innerHTML = '';\n",
              "          dataTable['output_type'] = 'display_data';\n",
              "          await google.colab.output.renderOutput(dataTable, element);\n",
              "          const docLink = document.createElement('div');\n",
              "          docLink.innerHTML = docLinkHtml;\n",
              "          element.appendChild(docLink);\n",
              "        }\n",
              "      </script>\n",
              "    </div>\n",
              "  </div>\n",
              "  "
            ]
          },
          "metadata": {},
          "execution_count": 22
        }
      ]
    },
    {
      "cell_type": "markdown",
      "source": [
        "We took mean as we need to find the saleprice vs make as here we are not supposed to take sum as we are not comparing the total made by each make, but we are intrested in the normal price of the sale."
      ],
      "metadata": {
        "id": "AkYMzMHe-nji"
      }
    },
    {
      "cell_type": "markdown",
      "source": [
        "### Create a graph that answers this question."
      ],
      "metadata": {
        "id": "vGifgLw5BIgW"
      }
    },
    {
      "cell_type": "code",
      "source": [
        "plt.figure(figsize=(15,10))\n",
        "plt.bar(Data.index, Data['sellingprice'])\n",
        "plt.xlabel(\"Make\")\n",
        "plt.ylabel(\"Selling Price\")\n",
        "plt.title(\"Distribution of Selling Price by Make (2010-2015)\")\n",
        "plt.show()"
      ],
      "metadata": {
        "colab": {
          "base_uri": "https://localhost:8080/",
          "height": 574
        },
        "id": "bVOJCfJe8nuV",
        "outputId": "2367c3fc-8a91-47f9-e564-7c2bc9503cb7"
      },
      "execution_count": 23,
      "outputs": [
        {
          "output_type": "display_data",
          "data": {
            "text/plain": [
              "<Figure size 1080x720 with 1 Axes>"
            ],
            "image/png": "[encoded data removed]"
          },
          "metadata": {
            "needs_background": "light"
          }
        }
      ]
    },
    {
      "cell_type": "markdown",
      "source": [
        "bmw ranks top with above 30000 and kia,nissan,hyundai as the least with less than 15000 as the average selling price of its make."
      ],
      "metadata": {
        "id": "XvpM0hUL_INj"
      }
    }
  ]
}