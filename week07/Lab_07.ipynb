{
  "nbformat": 4,
  "nbformat_minor": 0,
  "metadata": {
    "colab": {
      "provenance": []
    },
    "kernelspec": {
      "name": "python3",
      "display_name": "Python 3"
    },
    "language_info": {
      "name": "python"
    }
  },
  "cells": [
    {
      "cell_type": "code",
      "execution_count": null,
      "metadata": {
        "id": "pYN2dekw4DId"
      },
      "outputs": [],
      "source": [
        "import pandas as pd\n",
        "import numpy as np\n",
        "import matplotlib.pyplot as plt\n",
        "%matplotlib inline\n",
        "\n",
        "df = pd.read_csv('https://raw.githubusercontent.com/msaricaumbc/DS_data/master/ds602/log_reg/employee-turnover-balanced.csv')\n",
        "y = df['left_company']\n",
        "X = df.iloc[:, 1:]"
      ]
    },
    {
      "cell_type": "code",
      "source": [
        "df"
      ],
      "metadata": {
        "colab": {
          "base_uri": "https://localhost:8080/",
          "height": 661
        },
        "id": "t7LXcjgP4DxC",
        "outputId": "50b17bc4-bf86-42df-dc98-9e9b063b49b4"
      },
      "execution_count": null,
      "outputs": [
        {
          "output_type": "execute_result",
          "data": {
            "text/plain": [
              "    left_company  age frequency_of_travel              department  \\\n",
              "0             No   37       Travel_Rarely                   Sales   \n",
              "1             No   39       Travel_Rarely  Research & Development   \n",
              "2             No   52   Travel_Frequently  Research & Development   \n",
              "3             No   50          Non-Travel                   Sales   \n",
              "4             No   44       Travel_Rarely  Research & Development   \n",
              "..           ...  ...                 ...                     ...   \n",
              "995          Yes   39       Travel_Rarely                   Sales   \n",
              "996          Yes   26       Travel_Rarely                   Sales   \n",
              "997          Yes   18   Travel_Frequently                   Sales   \n",
              "998          Yes   28       Travel_Rarely  Research & Development   \n",
              "999          Yes   29   Travel_Frequently                   Sales   \n",
              "\n",
              "     commuting_distance  education  satisfaction_with_environment  gender  \\\n",
              "0                    16          4                              4    Male   \n",
              "1                     3          2                              3    Male   \n",
              "2                    25          4                              3  Female   \n",
              "3                     1          3                              4  Female   \n",
              "4                     4          3                              4    Male   \n",
              "..                  ...        ...                            ...     ...   \n",
              "995                   3          2                              4  Female   \n",
              "996                   4          4                              4    Male   \n",
              "997                   5          3                              2    Male   \n",
              "998                   2          4                              1    Male   \n",
              "999                  13          3                              1  Female   \n",
              "\n",
              "     seniority_level                   position  satisfaction_with_job  \\\n",
              "0                  2            Sales Executive                      3   \n",
              "1                  2      Laboratory Technician                      3   \n",
              "2                  4     Manufacturing Director                      4   \n",
              "3                  2            Sales Executive                      3   \n",
              "4                  2  Healthcare Representative                      2   \n",
              "..               ...                        ...                    ...   \n",
              "995                2            Sales Executive                      3   \n",
              "996                2            Sales Executive                      4   \n",
              "997                1       Sales Representative                      2   \n",
              "998                1         Research Scientist                      4   \n",
              "999                2            Sales Executive                      2   \n",
              "\n",
              "    married_or_single  last_raise_pct  last_performance_rating  \\\n",
              "0            Divorced              19                        3   \n",
              "1            Divorced              15                        3   \n",
              "2             Married              22                        4   \n",
              "3             Married              12                        3   \n",
              "4              Single              12                        3   \n",
              "..                ...             ...                      ...   \n",
              "995           Married              18                        3   \n",
              "996            Single              12                        3   \n",
              "997            Single              14                        3   \n",
              "998           Married              13                        3   \n",
              "999            Single              11                        3   \n",
              "\n",
              "     total_years_working  years_at_company  years_in_current_job  \\\n",
              "0                      9                 1                     0   \n",
              "1                     11                10                     8   \n",
              "2                     31                 9                     8   \n",
              "3                     19                18                     7   \n",
              "4                     10                 5                     2   \n",
              "..                   ...               ...                   ...   \n",
              "995                   12                 1                     0   \n",
              "996                    8                 8                     7   \n",
              "997                    0                 0                     0   \n",
              "998                    5                 3                     2   \n",
              "999                    7                 5                     3   \n",
              "\n",
              "     years_since_last_promotion  years_with_current_supervisor  \n",
              "0                             0                              0  \n",
              "1                             0                              7  \n",
              "2                             0                              0  \n",
              "3                             0                             13  \n",
              "4                             2                              3  \n",
              "..                          ...                            ...  \n",
              "995                           0                              0  \n",
              "996                           7                              4  \n",
              "997                           0                              0  \n",
              "998                           2                              2  \n",
              "999                           0                              0  \n",
              "\n",
              "[1000 rows x 19 columns]"
            ],
            "text/html": [
              "\n",
              "  <div id=\"df-6454458f-a105-4a45-b24a-9dd62ab3122c\">\n",
              "    <div class=\"colab-df-container\">\n",
              "      <div>\n",
              "<style scoped>\n",
              "    .dataframe tbody tr th:only-of-type {\n",
              "        vertical-align: middle;\n",
              "    }\n",
              "\n",
              "    .dataframe tbody tr th {\n",
              "        vertical-align: top;\n",
              "    }\n",
              "\n",
              "    .dataframe thead th {\n",
              "        text-align: right;\n",
              "    }\n",
              "</style>\n",
              "<table border=\"1\" class=\"dataframe\">\n",
              "  <thead>\n",
              "    <tr style=\"text-align: right;\">\n",
              "      <th></th>\n",
              "      <th>left_company</th>\n",
              "      <th>age</th>\n",
              "      <th>frequency_of_travel</th>\n",
              "      <th>department</th>\n",
              "      <th>commuting_distance</th>\n",
              "      <th>education</th>\n",
              "      <th>satisfaction_with_environment</th>\n",
              "      <th>gender</th>\n",
              "      <th>seniority_level</th>\n",
              "      <th>position</th>\n",
              "      <th>satisfaction_with_job</th>\n",
              "      <th>married_or_single</th>\n",
              "      <th>last_raise_pct</th>\n",
              "      <th>last_performance_rating</th>\n",
              "      <th>total_years_working</th>\n",
              "      <th>years_at_company</th>\n",
              "      <th>years_in_current_job</th>\n",
              "      <th>years_since_last_promotion</th>\n",
              "      <th>years_with_current_supervisor</th>\n",
              "    </tr>\n",
              "  </thead>\n",
              "  <tbody>\n",
              "    <tr>\n",
              "      <th>0</th>\n",
              "      <td>No</td>\n",
              "      <td>37</td>\n",
              "      <td>Travel_Rarely</td>\n",
              "      <td>Sales</td>\n",
              "      <td>16</td>\n",
              "      <td>4</td>\n",
              "      <td>4</td>\n",
              "      <td>Male</td>\n",
              "      <td>2</td>\n",
              "      <td>Sales Executive</td>\n",
              "      <td>3</td>\n",
              "      <td>Divorced</td>\n",
              "      <td>19</td>\n",
              "      <td>3</td>\n",
              "      <td>9</td>\n",
              "      <td>1</td>\n",
              "      <td>0</td>\n",
              "      <td>0</td>\n",
              "      <td>0</td>\n",
              "    </tr>\n",
              "    <tr>\n",
              "      <th>1</th>\n",
              "      <td>No</td>\n",
              "      <td>39</td>\n",
              "      <td>Travel_Rarely</td>\n",
              "      <td>Research &amp; Development</td>\n",
              "      <td>3</td>\n",
              "      <td>2</td>\n",
              "      <td>3</td>\n",
              "      <td>Male</td>\n",
              "      <td>2</td>\n",
              "      <td>Laboratory Technician</td>\n",
              "      <td>3</td>\n",
              "      <td>Divorced</td>\n",
              "      <td>15</td>\n",
              "      <td>3</td>\n",
              "      <td>11</td>\n",
              "      <td>10</td>\n",
              "      <td>8</td>\n",
              "      <td>0</td>\n",
              "      <td>7</td>\n",
              "    </tr>\n",
              "    <tr>\n",
              "      <th>2</th>\n",
              "      <td>No</td>\n",
              "      <td>52</td>\n",
              "      <td>Travel_Frequently</td>\n",
              "      <td>Research &amp; Development</td>\n",
              "      <td>25</td>\n",
              "      <td>4</td>\n",
              "      <td>3</td>\n",
              "      <td>Female</td>\n",
              "      <td>4</td>\n",
              "      <td>Manufacturing Director</td>\n",
              "      <td>4</td>\n",
              "      <td>Married</td>\n",
              "      <td>22</td>\n",
              "      <td>4</td>\n",
              "      <td>31</td>\n",
              "      <td>9</td>\n",
              "      <td>8</td>\n",
              "      <td>0</td>\n",
              "      <td>0</td>\n",
              "    </tr>\n",
              "    <tr>\n",
              "      <th>3</th>\n",
              "      <td>No</td>\n",
              "      <td>50</td>\n",
              "      <td>Non-Travel</td>\n",
              "      <td>Sales</td>\n",
              "      <td>1</td>\n",
              "      <td>3</td>\n",
              "      <td>4</td>\n",
              "      <td>Female</td>\n",
              "      <td>2</td>\n",
              "      <td>Sales Executive</td>\n",
              "      <td>3</td>\n",
              "      <td>Married</td>\n",
              "      <td>12</td>\n",
              "      <td>3</td>\n",
              "      <td>19</td>\n",
              "      <td>18</td>\n",
              "      <td>7</td>\n",
              "      <td>0</td>\n",
              "      <td>13</td>\n",
              "    </tr>\n",
              "    <tr>\n",
              "      <th>4</th>\n",
              "      <td>No</td>\n",
              "      <td>44</td>\n",
              "      <td>Travel_Rarely</td>\n",
              "      <td>Research &amp; Development</td>\n",
              "      <td>4</td>\n",
              "      <td>3</td>\n",
              "      <td>4</td>\n",
              "      <td>Male</td>\n",
              "      <td>2</td>\n",
              "      <td>Healthcare Representative</td>\n",
              "      <td>2</td>\n",
              "      <td>Single</td>\n",
              "      <td>12</td>\n",
              "      <td>3</td>\n",
              "      <td>10</td>\n",
              "      <td>5</td>\n",
              "      <td>2</td>\n",
              "      <td>2</td>\n",
              "      <td>3</td>\n",
              "    </tr>\n",
              "    <tr>\n",
              "      <th>...</th>\n",
              "      <td>...</td>\n",
              "      <td>...</td>\n",
              "      <td>...</td>\n",
              "      <td>...</td>\n",
              "      <td>...</td>\n",
              "      <td>...</td>\n",
              "      <td>...</td>\n",
              "      <td>...</td>\n",
              "      <td>...</td>\n",
              "      <td>...</td>\n",
              "      <td>...</td>\n",
              "      <td>...</td>\n",
              "      <td>...</td>\n",
              "      <td>...</td>\n",
              "      <td>...</td>\n",
              "      <td>...</td>\n",
              "      <td>...</td>\n",
              "      <td>...</td>\n",
              "      <td>...</td>\n",
              "    </tr>\n",
              "    <tr>\n",
              "      <th>995</th>\n",
              "      <td>Yes</td>\n",
              "      <td>39</td>\n",
              "      <td>Travel_Rarely</td>\n",
              "      <td>Sales</td>\n",
              "      <td>3</td>\n",
              "      <td>2</td>\n",
              "      <td>4</td>\n",
              "      <td>Female</td>\n",
              "      <td>2</td>\n",
              "      <td>Sales Executive</td>\n",
              "      <td>3</td>\n",
              "      <td>Married</td>\n",
              "      <td>18</td>\n",
              "      <td>3</td>\n",
              "      <td>12</td>\n",
              "      <td>1</td>\n",
              "      <td>0</td>\n",
              "      <td>0</td>\n",
              "      <td>0</td>\n",
              "    </tr>\n",
              "    <tr>\n",
              "      <th>996</th>\n",
              "      <td>Yes</td>\n",
              "      <td>26</td>\n",
              "      <td>Travel_Rarely</td>\n",
              "      <td>Sales</td>\n",
              "      <td>4</td>\n",
              "      <td>4</td>\n",
              "      <td>4</td>\n",
              "      <td>Male</td>\n",
              "      <td>2</td>\n",
              "      <td>Sales Executive</td>\n",
              "      <td>4</td>\n",
              "      <td>Single</td>\n",
              "      <td>12</td>\n",
              "      <td>3</td>\n",
              "      <td>8</td>\n",
              "      <td>8</td>\n",
              "      <td>7</td>\n",
              "      <td>7</td>\n",
              "      <td>4</td>\n",
              "    </tr>\n",
              "    <tr>\n",
              "      <th>997</th>\n",
              "      <td>Yes</td>\n",
              "      <td>18</td>\n",
              "      <td>Travel_Frequently</td>\n",
              "      <td>Sales</td>\n",
              "      <td>5</td>\n",
              "      <td>3</td>\n",
              "      <td>2</td>\n",
              "      <td>Male</td>\n",
              "      <td>1</td>\n",
              "      <td>Sales Representative</td>\n",
              "      <td>2</td>\n",
              "      <td>Single</td>\n",
              "      <td>14</td>\n",
              "      <td>3</td>\n",
              "      <td>0</td>\n",
              "      <td>0</td>\n",
              "      <td>0</td>\n",
              "      <td>0</td>\n",
              "      <td>0</td>\n",
              "    </tr>\n",
              "    <tr>\n",
              "      <th>998</th>\n",
              "      <td>Yes</td>\n",
              "      <td>28</td>\n",
              "      <td>Travel_Rarely</td>\n",
              "      <td>Research &amp; Development</td>\n",
              "      <td>2</td>\n",
              "      <td>4</td>\n",
              "      <td>1</td>\n",
              "      <td>Male</td>\n",
              "      <td>1</td>\n",
              "      <td>Research Scientist</td>\n",
              "      <td>4</td>\n",
              "      <td>Married</td>\n",
              "      <td>13</td>\n",
              "      <td>3</td>\n",
              "      <td>5</td>\n",
              "      <td>3</td>\n",
              "      <td>2</td>\n",
              "      <td>2</td>\n",
              "      <td>2</td>\n",
              "    </tr>\n",
              "    <tr>\n",
              "      <th>999</th>\n",
              "      <td>Yes</td>\n",
              "      <td>29</td>\n",
              "      <td>Travel_Frequently</td>\n",
              "      <td>Sales</td>\n",
              "      <td>13</td>\n",
              "      <td>3</td>\n",
              "      <td>1</td>\n",
              "      <td>Female</td>\n",
              "      <td>2</td>\n",
              "      <td>Sales Executive</td>\n",
              "      <td>2</td>\n",
              "      <td>Single</td>\n",
              "      <td>11</td>\n",
              "      <td>3</td>\n",
              "      <td>7</td>\n",
              "      <td>5</td>\n",
              "      <td>3</td>\n",
              "      <td>0</td>\n",
              "      <td>0</td>\n",
              "    </tr>\n",
              "  </tbody>\n",
              "</table>\n",
              "<p>1000 rows × 19 columns</p>\n",
              "</div>\n",
              "      <button class=\"colab-df-convert\" onclick=\"convertToInteractive('df-6454458f-a105-4a45-b24a-9dd62ab3122c')\"\n",
              "              title=\"Convert this dataframe to an interactive table.\"\n",
              "              style=\"display:none;\">\n",
              "        \n",
              "  <svg xmlns=\"http://www.w3.org/2000/svg\" height=\"24px\"viewBox=\"0 0 24 24\"\n",
              "       width=\"24px\">\n",
              "    <path d=\"M0 0h24v24H0V0z\" fill=\"none\"/>\n",
              "    <path d=\"M18.56 5.44l.94 2.06.94-2.06 2.06-.94-2.06-.94-.94-2.06-.94 2.06-2.06.94zm-11 1L8.5 8.5l.94-2.06 2.06-.94-2.06-.94L8.5 2.5l-.94 2.06-2.06.94zm10 10l.94 2.06.94-2.06 2.06-.94-2.06-.94-.94-2.06-.94 2.06-2.06.94z\"/><path d=\"M17.41 7.96l-1.37-1.37c-.4-.4-.92-.59-1.43-.59-.52 0-1.04.2-1.43.59L10.3 9.45l-7.72 7.72c-.78.78-.78 2.05 0 2.83L4 21.41c.39.39.9.59 1.41.59.51 0 1.02-.2 1.41-.59l7.78-7.78 2.81-2.81c.8-.78.8-2.07 0-2.86zM5.41 20L4 18.59l7.72-7.72 1.47 1.35L5.41 20z\"/>\n",
              "  </svg>\n",
              "      </button>\n",
              "      \n",
              "  <style>\n",
              "    .colab-df-container {\n",
              "      display:flex;\n",
              "      flex-wrap:wrap;\n",
              "      gap: 12px;\n",
              "    }\n",
              "\n",
              "    .colab-df-convert {\n",
              "      background-color: #E8F0FE;\n",
              "      border: none;\n",
              "      border-radius: 50%;\n",
              "      cursor: pointer;\n",
              "      display: none;\n",
              "      fill: #1967D2;\n",
              "      height: 32px;\n",
              "      padding: 0 0 0 0;\n",
              "      width: 32px;\n",
              "    }\n",
              "\n",
              "    .colab-df-convert:hover {\n",
              "      background-color: #E2EBFA;\n",
              "      box-shadow: 0px 1px 2px rgba(60, 64, 67, 0.3), 0px 1px 3px 1px rgba(60, 64, 67, 0.15);\n",
              "      fill: #174EA6;\n",
              "    }\n",
              "\n",
              "    [theme=dark] .colab-df-convert {\n",
              "      background-color: #3B4455;\n",
              "      fill: #D2E3FC;\n",
              "    }\n",
              "\n",
              "    [theme=dark] .colab-df-convert:hover {\n",
              "      background-color: #434B5C;\n",
              "      box-shadow: 0px 1px 3px 1px rgba(0, 0, 0, 0.15);\n",
              "      filter: drop-shadow(0px 1px 2px rgba(0, 0, 0, 0.3));\n",
              "      fill: #FFFFFF;\n",
              "    }\n",
              "  </style>\n",
              "\n",
              "      <script>\n",
              "        const buttonEl =\n",
              "          document.querySelector('#df-6454458f-a105-4a45-b24a-9dd62ab3122c button.colab-df-convert');\n",
              "        buttonEl.style.display =\n",
              "          google.colab.kernel.accessAllowed ? 'block' : 'none';\n",
              "\n",
              "        async function convertToInteractive(key) {\n",
              "          const element = document.querySelector('#df-6454458f-a105-4a45-b24a-9dd62ab3122c');\n",
              "          const dataTable =\n",
              "            await google.colab.kernel.invokeFunction('convertToInteractive',\n",
              "                                                     [key], {});\n",
              "          if (!dataTable) return;\n",
              "\n",
              "          const docLinkHtml = 'Like what you see? Visit the ' +\n",
              "            '<a target=\"_blank\" href=https://colab.research.google.com/notebooks/data_table.ipynb>data table notebook</a>'\n",
              "            + ' to learn more about interactive tables.';\n",
              "          element.innerHTML = '';\n",
              "          dataTable['output_type'] = 'display_data';\n",
              "          await google.colab.output.renderOutput(dataTable, element);\n",
              "          const docLink = document.createElement('div');\n",
              "          docLink.innerHTML = docLinkHtml;\n",
              "          element.appendChild(docLink);\n",
              "        }\n",
              "      </script>\n",
              "    </div>\n",
              "  </div>\n",
              "  "
            ]
          },
          "metadata": {},
          "execution_count": 2
        }
      ]
    },
    {
      "cell_type": "code",
      "source": [
        "df['left_company'].value_counts().plot.barh()\n",
        "plt.title('Distribution')\n",
        "plt.xlabel('Number of employees')\n",
        "plt.show()"
      ],
      "metadata": {
        "colab": {
          "base_uri": "https://localhost:8080/",
          "height": 295
        },
        "id": "s9KfB_cE4F36",
        "outputId": "6b14d78f-b4c3-427b-f0d7-1fb6473fc05c"
      },
      "execution_count": null,
      "outputs": [
        {
          "output_type": "display_data",
          "data": {
            "text/plain": [
              "<Figure size 432x288 with 1 Axes>"
            ],
            "image/png": "[encoded data removed]"
          },
          "metadata": {
            "needs_background": "light"
          }
        }
      ]
    },
    {
      "cell_type": "markdown",
      "source": [
        "To check wheather if data is balanced or not."
      ],
      "metadata": {
        "id": "jaOhg6UIrMHe"
      }
    },
    {
      "cell_type": "markdown",
      "source": [
        "## Train-test split"
      ],
      "metadata": {
        "id": "2BYP-cIH_6Wq"
      }
    },
    {
      "cell_type": "code",
      "source": [
        "from sklearn.model_selection import train_test_split\n",
        "def generate_splits():\n",
        "    \n",
        "    y = np.where(df['left_company'] == 'Yes', 1, 0)\n",
        "    X = df[[x for x in df.columns if x != 'left_company']]\n",
        "\n",
        "    return train_test_split(X, y, test_size=0.2,random_state = 42)\n",
        "\n",
        "X_train, X_test, y_train, y_test = generate_splits()\n",
        "\n",
        "print(f'Training examples: {X_train.shape[0]:,}')\n",
        "print(f'Test examples: {X_test.shape[0]:,}')"
      ],
      "metadata": {
        "colab": {
          "base_uri": "https://localhost:8080/"
        },
        "id": "mG5nD3sk8Fdi",
        "outputId": "acb6512d-6d84-46ae-87e1-5d4af010c3e4"
      },
      "execution_count": null,
      "outputs": [
        {
          "output_type": "stream",
          "name": "stdout",
          "text": [
            "Training examples: 800\n",
            "Test examples: 200\n"
          ]
        }
      ]
    },
    {
      "cell_type": "markdown",
      "source": [
        "## Train a decison tree model"
      ],
      "metadata": {
        "id": "vPqj6PQVACS7"
      }
    },
    {
      "cell_type": "code",
      "source": [
        "from sklearn.pipeline import Pipeline\n",
        "from sklearn.compose import ColumnTransformer\n",
        "from sklearn.preprocessing import StandardScaler\n",
        "from sklearn.preprocessing import OneHotEncoder\n",
        "from sklearn.tree import DecisionTreeClassifier\n",
        "\n",
        "numerical_var = ['age', 'commuting_distance', 'education', 'satisfaction_with_environment','seniority_level','satisfaction_with_job','last_raise_pct', 'last_performance_rating',\n",
        "       'total_years_working', 'years_since_last_promotion','years_at_company','years_in_current_job',\n",
        "       'years_with_current_supervisor']\n",
        "ohes = ['frequency_of_travel', 'department','gender','position','married_or_single']\n",
        "\n",
        "processing_pipeline = ColumnTransformer(transformers=[\n",
        "    ('numscaling', StandardScaler(), numerical_var),\n",
        "    ('dummys', OneHotEncoder(drop='first'), ohes)]\n",
        ")\n",
        "\n",
        "modeling_pipeline = Pipeline([\n",
        "    ('data_processing', processing_pipeline),\n",
        "    ('dt', DecisionTreeClassifier())]\n",
        ")\n",
        "\n",
        "m =  modeling_pipeline.fit(X_train, y_train)\n",
        "m\n"
      ],
      "metadata": {
        "colab": {
          "base_uri": "https://localhost:8080/",
          "height": 192
        },
        "id": "fUG4JaWO8IYm",
        "outputId": "92e13fa1-4183-4290-e300-66f32b042b5d"
      },
      "execution_count": null,
      "outputs": [
        {
          "output_type": "execute_result",
          "data": {
            "text/plain": [
              "Pipeline(steps=[('data_processing',\n",
              "                 ColumnTransformer(transformers=[('numscaling',\n",
              "                                                  StandardScaler(),\n",
              "                                                  ['age', 'commuting_distance',\n",
              "                                                   'education',\n",
              "                                                   'satisfaction_with_environment',\n",
              "                                                   'seniority_level',\n",
              "                                                   'satisfaction_with_job',\n",
              "                                                   'last_raise_pct',\n",
              "                                                   'last_performance_rating',\n",
              "                                                   'total_years_working',\n",
              "                                                   'years_since_last_promotion',\n",
              "                                                   'years_at_company',\n",
              "                                                   'years_in_current_job',\n",
              "                                                   'years_with_current_supervisor']),\n",
              "                                                 ('dummys',\n",
              "                                                  OneHotEncoder(drop='first'),\n",
              "                                                  ['frequency_of_travel',\n",
              "                                                   'department', 'gender',\n",
              "                                                   'position',\n",
              "                                                   'married_or_single'])])),\n",
              "                ('dt', DecisionTreeClassifier())])"
            ],
            "text/html": [
              "<style>#sk-container-id-1 {color: black;background-color: white;}#sk-container-id-1 pre{padding: 0;}#sk-container-id-1 div.sk-toggleable {background-color: white;}#sk-container-id-1 label.sk-toggleable__label {cursor: pointer;display: block;width: 100%;margin-bottom: 0;padding: 0.3em;box-sizing: border-box;text-align: center;}#sk-container-id-1 label.sk-toggleable__label-arrow:before {content: \"▸\";float: left;margin-right: 0.25em;color: #696969;}#sk-container-id-1 label.sk-toggleable__label-arrow:hover:before {color: black;}#sk-container-id-1 div.sk-estimator:hover label.sk-toggleable__label-arrow:before {color: black;}#sk-container-id-1 div.sk-toggleable__content {max-height: 0;max-width: 0;overflow: hidden;text-align: left;background-color: #f0f8ff;}#sk-container-id-1 div.sk-toggleable__content pre {margin: 0.2em;color: black;border-radius: 0.25em;background-color: #f0f8ff;}#sk-container-id-1 input.sk-toggleable__control:checked~div.sk-toggleable__content {max-height: 200px;max-width: 100%;overflow: auto;}#sk-container-id-1 input.sk-toggleable__control:checked~label.sk-toggleable__label-arrow:before {content: \"▾\";}#sk-container-id-1 div.sk-estimator input.sk-toggleable__control:checked~label.sk-toggleable__label {background-color: #d4ebff;}#sk-container-id-1 div.sk-label input.sk-toggleable__control:checked~label.sk-toggleable__label {background-color: #d4ebff;}#sk-container-id-1 input.sk-hidden--visually {border: 0;clip: rect(1px 1px 1px 1px);clip: rect(1px, 1px, 1px, 1px);height: 1px;margin: -1px;overflow: hidden;padding: 0;position: absolute;width: 1px;}#sk-container-id-1 div.sk-estimator {font-family: monospace;background-color: #f0f8ff;border: 1px dotted black;border-radius: 0.25em;box-sizing: border-box;margin-bottom: 0.5em;}#sk-container-id-1 div.sk-estimator:hover {background-color: #d4ebff;}#sk-container-id-1 div.sk-parallel-item::after {content: \"\";width: 100%;border-bottom: 1px solid gray;flex-grow: 1;}#sk-container-id-1 div.sk-label:hover label.sk-toggleable__label {background-color: #d4ebff;}#sk-container-id-1 div.sk-serial::before {content: \"\";position: absolute;border-left: 1px solid gray;box-sizing: border-box;top: 0;bottom: 0;left: 50%;z-index: 0;}#sk-container-id-1 div.sk-serial {display: flex;flex-direction: column;align-items: center;background-color: white;padding-right: 0.2em;padding-left: 0.2em;position: relative;}#sk-container-id-1 div.sk-item {position: relative;z-index: 1;}#sk-container-id-1 div.sk-parallel {display: flex;align-items: stretch;justify-content: center;background-color: white;position: relative;}#sk-container-id-1 div.sk-item::before, #sk-container-id-1 div.sk-parallel-item::before {content: \"\";position: absolute;border-left: 1px solid gray;box-sizing: border-box;top: 0;bottom: 0;left: 50%;z-index: -1;}#sk-container-id-1 div.sk-parallel-item {display: flex;flex-direction: column;z-index: 1;position: relative;background-color: white;}#sk-container-id-1 div.sk-parallel-item:first-child::after {align-self: flex-end;width: 50%;}#sk-container-id-1 div.sk-parallel-item:last-child::after {align-self: flex-start;width: 50%;}#sk-container-id-1 div.sk-parallel-item:only-child::after {width: 0;}#sk-container-id-1 div.sk-dashed-wrapped {border: 1px dashed gray;margin: 0 0.4em 0.5em 0.4em;box-sizing: border-box;padding-bottom: 0.4em;background-color: white;}#sk-container-id-1 div.sk-label label {font-family: monospace;font-weight: bold;display: inline-block;line-height: 1.2em;}#sk-container-id-1 div.sk-label-container {text-align: center;}#sk-container-id-1 div.sk-container {/* jupyter's `normalize.less` sets `[hidden] { display: none; }` but bootstrap.min.css set `[hidden] { display: none !important; }` so we also need the `!important` here to be able to override the default hidden behavior on the sphinx rendered scikit-learn.org. See: https://github.com/scikit-learn/scikit-learn/issues/21755 */display: inline-block !important;position: relative;}#sk-container-id-1 div.sk-text-repr-fallback {display: none;}</style><div id=\"sk-container-id-1\" class=\"sk-top-container\"><div class=\"sk-text-repr-fallback\"><pre>Pipeline(steps=[(&#x27;data_processing&#x27;,\n",
              "                 ColumnTransformer(transformers=[(&#x27;numscaling&#x27;,\n",
              "                                                  StandardScaler(),\n",
              "                                                  [&#x27;age&#x27;, &#x27;commuting_distance&#x27;,\n",
              "                                                   &#x27;education&#x27;,\n",
              "                                                   &#x27;satisfaction_with_environment&#x27;,\n",
              "                                                   &#x27;seniority_level&#x27;,\n",
              "                                                   &#x27;satisfaction_with_job&#x27;,\n",
              "                                                   &#x27;last_raise_pct&#x27;,\n",
              "                                                   &#x27;last_performance_rating&#x27;,\n",
              "                                                   &#x27;total_years_working&#x27;,\n",
              "                                                   &#x27;years_since_last_promotion&#x27;,\n",
              "                                                   &#x27;years_at_company&#x27;,\n",
              "                                                   &#x27;years_in_current_job&#x27;,\n",
              "                                                   &#x27;years_with_current_supervisor&#x27;]),\n",
              "                                                 (&#x27;dummys&#x27;,\n",
              "                                                  OneHotEncoder(drop=&#x27;first&#x27;),\n",
              "                                                  [&#x27;frequency_of_travel&#x27;,\n",
              "                                                   &#x27;department&#x27;, &#x27;gender&#x27;,\n",
              "                                                   &#x27;position&#x27;,\n",
              "                                                   &#x27;married_or_single&#x27;])])),\n",
              "                (&#x27;dt&#x27;, DecisionTreeClassifier())])</pre><b>In a Jupyter environment, please rerun this cell to show the HTML representation or trust the notebook. <br />On GitHub, the HTML representation is unable to render, please try loading this page with nbviewer.org.</b></div><div class=\"sk-container\" hidden><div class=\"sk-item sk-dashed-wrapped\"><div class=\"sk-label-container\"><div class=\"sk-label sk-toggleable\"><input class=\"sk-toggleable__control sk-hidden--visually\" id=\"sk-estimator-id-1\" type=\"checkbox\" ><label for=\"sk-estimator-id-1\" class=\"sk-toggleable__label sk-toggleable__label-arrow\">Pipeline</label><div class=\"sk-toggleable__content\"><pre>Pipeline(steps=[(&#x27;data_processing&#x27;,\n",
              "                 ColumnTransformer(transformers=[(&#x27;numscaling&#x27;,\n",
              "                                                  StandardScaler(),\n",
              "                                                  [&#x27;age&#x27;, &#x27;commuting_distance&#x27;,\n",
              "                                                   &#x27;education&#x27;,\n",
              "                                                   &#x27;satisfaction_with_environment&#x27;,\n",
              "                                                   &#x27;seniority_level&#x27;,\n",
              "                                                   &#x27;satisfaction_with_job&#x27;,\n",
              "                                                   &#x27;last_raise_pct&#x27;,\n",
              "                                                   &#x27;last_performance_rating&#x27;,\n",
              "                                                   &#x27;total_years_working&#x27;,\n",
              "                                                   &#x27;years_since_last_promotion&#x27;,\n",
              "                                                   &#x27;years_at_company&#x27;,\n",
              "                                                   &#x27;years_in_current_job&#x27;,\n",
              "                                                   &#x27;years_with_current_supervisor&#x27;]),\n",
              "                                                 (&#x27;dummys&#x27;,\n",
              "                                                  OneHotEncoder(drop=&#x27;first&#x27;),\n",
              "                                                  [&#x27;frequency_of_travel&#x27;,\n",
              "                                                   &#x27;department&#x27;, &#x27;gender&#x27;,\n",
              "                                                   &#x27;position&#x27;,\n",
              "                                                   &#x27;married_or_single&#x27;])])),\n",
              "                (&#x27;dt&#x27;, DecisionTreeClassifier())])</pre></div></div></div><div class=\"sk-serial\"><div class=\"sk-item sk-dashed-wrapped\"><div class=\"sk-label-container\"><div class=\"sk-label sk-toggleable\"><input class=\"sk-toggleable__control sk-hidden--visually\" id=\"sk-estimator-id-2\" type=\"checkbox\" ><label for=\"sk-estimator-id-2\" class=\"sk-toggleable__label sk-toggleable__label-arrow\">data_processing: ColumnTransformer</label><div class=\"sk-toggleable__content\"><pre>ColumnTransformer(transformers=[(&#x27;numscaling&#x27;, StandardScaler(),\n",
              "                                 [&#x27;age&#x27;, &#x27;commuting_distance&#x27;, &#x27;education&#x27;,\n",
              "                                  &#x27;satisfaction_with_environment&#x27;,\n",
              "                                  &#x27;seniority_level&#x27;, &#x27;satisfaction_with_job&#x27;,\n",
              "                                  &#x27;last_raise_pct&#x27;, &#x27;last_performance_rating&#x27;,\n",
              "                                  &#x27;total_years_working&#x27;,\n",
              "                                  &#x27;years_since_last_promotion&#x27;,\n",
              "                                  &#x27;years_at_company&#x27;, &#x27;years_in_current_job&#x27;,\n",
              "                                  &#x27;years_with_current_supervisor&#x27;]),\n",
              "                                (&#x27;dummys&#x27;, OneHotEncoder(drop=&#x27;first&#x27;),\n",
              "                                 [&#x27;frequency_of_travel&#x27;, &#x27;department&#x27;, &#x27;gender&#x27;,\n",
              "                                  &#x27;position&#x27;, &#x27;married_or_single&#x27;])])</pre></div></div></div><div class=\"sk-parallel\"><div class=\"sk-parallel-item\"><div class=\"sk-item\"><div class=\"sk-label-container\"><div class=\"sk-label sk-toggleable\"><input class=\"sk-toggleable__control sk-hidden--visually\" id=\"sk-estimator-id-3\" type=\"checkbox\" ><label for=\"sk-estimator-id-3\" class=\"sk-toggleable__label sk-toggleable__label-arrow\">numscaling</label><div class=\"sk-toggleable__content\"><pre>[&#x27;age&#x27;, &#x27;commuting_distance&#x27;, &#x27;education&#x27;, &#x27;satisfaction_with_environment&#x27;, &#x27;seniority_level&#x27;, &#x27;satisfaction_with_job&#x27;, &#x27;last_raise_pct&#x27;, &#x27;last_performance_rating&#x27;, &#x27;total_years_working&#x27;, &#x27;years_since_last_promotion&#x27;, &#x27;years_at_company&#x27;, &#x27;years_in_current_job&#x27;, &#x27;years_with_current_supervisor&#x27;]</pre></div></div></div><div class=\"sk-serial\"><div class=\"sk-item\"><div class=\"sk-estimator sk-toggleable\"><input class=\"sk-toggleable__control sk-hidden--visually\" id=\"sk-estimator-id-4\" type=\"checkbox\" ><label for=\"sk-estimator-id-4\" class=\"sk-toggleable__label sk-toggleable__label-arrow\">StandardScaler</label><div class=\"sk-toggleable__content\"><pre>StandardScaler()</pre></div></div></div></div></div></div><div class=\"sk-parallel-item\"><div class=\"sk-item\"><div class=\"sk-label-container\"><div class=\"sk-label sk-toggleable\"><input class=\"sk-toggleable__control sk-hidden--visually\" id=\"sk-estimator-id-5\" type=\"checkbox\" ><label for=\"sk-estimator-id-5\" class=\"sk-toggleable__label sk-toggleable__label-arrow\">dummys</label><div class=\"sk-toggleable__content\"><pre>[&#x27;frequency_of_travel&#x27;, &#x27;department&#x27;, &#x27;gender&#x27;, &#x27;position&#x27;, &#x27;married_or_single&#x27;]</pre></div></div></div><div class=\"sk-serial\"><div class=\"sk-item\"><div class=\"sk-estimator sk-toggleable\"><input class=\"sk-toggleable__control sk-hidden--visually\" id=\"sk-estimator-id-6\" type=\"checkbox\" ><label for=\"sk-estimator-id-6\" class=\"sk-toggleable__label sk-toggleable__label-arrow\">OneHotEncoder</label><div class=\"sk-toggleable__content\"><pre>OneHotEncoder(drop=&#x27;first&#x27;)</pre></div></div></div></div></div></div></div></div><div class=\"sk-item\"><div class=\"sk-estimator sk-toggleable\"><input class=\"sk-toggleable__control sk-hidden--visually\" id=\"sk-estimator-id-7\" type=\"checkbox\" ><label for=\"sk-estimator-id-7\" class=\"sk-toggleable__label sk-toggleable__label-arrow\">DecisionTreeClassifier</label><div class=\"sk-toggleable__content\"><pre>DecisionTreeClassifier()</pre></div></div></div></div></div></div></div>"
            ]
          },
          "metadata": {},
          "execution_count": 5
        }
      ]
    },
    {
      "cell_type": "code",
      "source": [
        "y_hat = m.predict(X_test)\n",
        "    \n",
        "from sklearn.metrics import classification_report\n",
        "print(classification_report(y_test, y_hat))"
      ],
      "metadata": {
        "colab": {
          "base_uri": "https://localhost:8080/"
        },
        "id": "qOLGEYoVAgAp",
        "outputId": "42eb2550-60cd-4f18-cece-b652fb520953"
      },
      "execution_count": null,
      "outputs": [
        {
          "output_type": "stream",
          "name": "stdout",
          "text": [
            "              precision    recall  f1-score   support\n",
            "\n",
            "           0       0.84      0.72      0.78        96\n",
            "           1       0.77      0.88      0.82       104\n",
            "\n",
            "    accuracy                           0.80       200\n",
            "   macro avg       0.81      0.80      0.80       200\n",
            "weighted avg       0.80      0.80      0.80       200\n",
            "\n"
          ]
        }
      ]
    },
    {
      "cell_type": "markdown",
      "source": [
        "## To improve the model we use recall"
      ],
      "metadata": {
        "id": "6b49Vp9eHJgo"
      }
    },
    {
      "cell_type": "code",
      "source": [
        "from sklearn.model_selection import GridSearchCV\n",
        "param_grid = [\n",
        "  {'dt__max_depth': [2, 5, 10, 15, 20],\n",
        "   'dt__min_samples_split':[3, 5, 10, 20, 40],\n",
        "   'dt__min_samples_leaf': [2, 5],\n",
        "   'dt__class_weight':[None, 'balanced']\n",
        "  }\n",
        " ]\n",
        "\n",
        "gcv_results = GridSearchCV(estimator=modeling_pipeline, \n",
        "                           param_grid=param_grid, scoring='recall', refit=True)\n",
        "gcv_results = gcv_results.fit(X_train, y_train)\n",
        "\n",
        "gcv_results.best_estimator_"
      ],
      "metadata": {
        "colab": {
          "base_uri": "https://localhost:8080/",
          "height": 192
        },
        "id": "o4c2cvadGnKQ",
        "outputId": "ba4b6337-5ee1-4b06-8fb1-3cce7cb04c72"
      },
      "execution_count": null,
      "outputs": [
        {
          "output_type": "execute_result",
          "data": {
            "text/plain": [
              "Pipeline(steps=[('data_processing',\n",
              "                 ColumnTransformer(transformers=[('numscaling',\n",
              "                                                  StandardScaler(),\n",
              "                                                  ['age', 'commuting_distance',\n",
              "                                                   'education',\n",
              "                                                   'satisfaction_with_environment',\n",
              "                                                   'seniority_level',\n",
              "                                                   'satisfaction_with_job',\n",
              "                                                   'last_raise_pct',\n",
              "                                                   'last_performance_rating',\n",
              "                                                   'total_years_working',\n",
              "                                                   'years_since_last_promotion',\n",
              "                                                   'years_at_company',\n",
              "                                                   'years_in_current_job',\n",
              "                                                   'years_with_current_supervisor']),\n",
              "                                                 ('dummys',\n",
              "                                                  OneHotEncoder(drop='first'),\n",
              "                                                  ['frequency_of_travel',\n",
              "                                                   'department', 'gender',\n",
              "                                                   'position',\n",
              "                                                   'married_or_single'])])),\n",
              "                ('dt',\n",
              "                 DecisionTreeClassifier(class_weight='balanced', max_depth=20,\n",
              "                                        min_samples_leaf=2,\n",
              "                                        min_samples_split=3))])"
            ],
            "text/html": [
              "<style>#sk-container-id-2 {color: black;background-color: white;}#sk-container-id-2 pre{padding: 0;}#sk-container-id-2 div.sk-toggleable {background-color: white;}#sk-container-id-2 label.sk-toggleable__label {cursor: pointer;display: block;width: 100%;margin-bottom: 0;padding: 0.3em;box-sizing: border-box;text-align: center;}#sk-container-id-2 label.sk-toggleable__label-arrow:before {content: \"▸\";float: left;margin-right: 0.25em;color: #696969;}#sk-container-id-2 label.sk-toggleable__label-arrow:hover:before {color: black;}#sk-container-id-2 div.sk-estimator:hover label.sk-toggleable__label-arrow:before {color: black;}#sk-container-id-2 div.sk-toggleable__content {max-height: 0;max-width: 0;overflow: hidden;text-align: left;background-color: #f0f8ff;}#sk-container-id-2 div.sk-toggleable__content pre {margin: 0.2em;color: black;border-radius: 0.25em;background-color: #f0f8ff;}#sk-container-id-2 input.sk-toggleable__control:checked~div.sk-toggleable__content {max-height: 200px;max-width: 100%;overflow: auto;}#sk-container-id-2 input.sk-toggleable__control:checked~label.sk-toggleable__label-arrow:before {content: \"▾\";}#sk-container-id-2 div.sk-estimator input.sk-toggleable__control:checked~label.sk-toggleable__label {background-color: #d4ebff;}#sk-container-id-2 div.sk-label input.sk-toggleable__control:checked~label.sk-toggleable__label {background-color: #d4ebff;}#sk-container-id-2 input.sk-hidden--visually {border: 0;clip: rect(1px 1px 1px 1px);clip: rect(1px, 1px, 1px, 1px);height: 1px;margin: -1px;overflow: hidden;padding: 0;position: absolute;width: 1px;}#sk-container-id-2 div.sk-estimator {font-family: monospace;background-color: #f0f8ff;border: 1px dotted black;border-radius: 0.25em;box-sizing: border-box;margin-bottom: 0.5em;}#sk-container-id-2 div.sk-estimator:hover {background-color: #d4ebff;}#sk-container-id-2 div.sk-parallel-item::after {content: \"\";width: 100%;border-bottom: 1px solid gray;flex-grow: 1;}#sk-container-id-2 div.sk-label:hover label.sk-toggleable__label {background-color: #d4ebff;}#sk-container-id-2 div.sk-serial::before {content: \"\";position: absolute;border-left: 1px solid gray;box-sizing: border-box;top: 0;bottom: 0;left: 50%;z-index: 0;}#sk-container-id-2 div.sk-serial {display: flex;flex-direction: column;align-items: center;background-color: white;padding-right: 0.2em;padding-left: 0.2em;position: relative;}#sk-container-id-2 div.sk-item {position: relative;z-index: 1;}#sk-container-id-2 div.sk-parallel {display: flex;align-items: stretch;justify-content: center;background-color: white;position: relative;}#sk-container-id-2 div.sk-item::before, #sk-container-id-2 div.sk-parallel-item::before {content: \"\";position: absolute;border-left: 1px solid gray;box-sizing: border-box;top: 0;bottom: 0;left: 50%;z-index: -1;}#sk-container-id-2 div.sk-parallel-item {display: flex;flex-direction: column;z-index: 1;position: relative;background-color: white;}#sk-container-id-2 div.sk-parallel-item:first-child::after {align-self: flex-end;width: 50%;}#sk-container-id-2 div.sk-parallel-item:last-child::after {align-self: flex-start;width: 50%;}#sk-container-id-2 div.sk-parallel-item:only-child::after {width: 0;}#sk-container-id-2 div.sk-dashed-wrapped {border: 1px dashed gray;margin: 0 0.4em 0.5em 0.4em;box-sizing: border-box;padding-bottom: 0.4em;background-color: white;}#sk-container-id-2 div.sk-label label {font-family: monospace;font-weight: bold;display: inline-block;line-height: 1.2em;}#sk-container-id-2 div.sk-label-container {text-align: center;}#sk-container-id-2 div.sk-container {/* jupyter's `normalize.less` sets `[hidden] { display: none; }` but bootstrap.min.css set `[hidden] { display: none !important; }` so we also need the `!important` here to be able to override the default hidden behavior on the sphinx rendered scikit-learn.org. See: https://github.com/scikit-learn/scikit-learn/issues/21755 */display: inline-block !important;position: relative;}#sk-container-id-2 div.sk-text-repr-fallback {display: none;}</style><div id=\"sk-container-id-2\" class=\"sk-top-container\"><div class=\"sk-text-repr-fallback\"><pre>Pipeline(steps=[(&#x27;data_processing&#x27;,\n",
              "                 ColumnTransformer(transformers=[(&#x27;numscaling&#x27;,\n",
              "                                                  StandardScaler(),\n",
              "                                                  [&#x27;age&#x27;, &#x27;commuting_distance&#x27;,\n",
              "                                                   &#x27;education&#x27;,\n",
              "                                                   &#x27;satisfaction_with_environment&#x27;,\n",
              "                                                   &#x27;seniority_level&#x27;,\n",
              "                                                   &#x27;satisfaction_with_job&#x27;,\n",
              "                                                   &#x27;last_raise_pct&#x27;,\n",
              "                                                   &#x27;last_performance_rating&#x27;,\n",
              "                                                   &#x27;total_years_working&#x27;,\n",
              "                                                   &#x27;years_since_last_promotion&#x27;,\n",
              "                                                   &#x27;years_at_company&#x27;,\n",
              "                                                   &#x27;years_in_current_job&#x27;,\n",
              "                                                   &#x27;years_with_current_supervisor&#x27;]),\n",
              "                                                 (&#x27;dummys&#x27;,\n",
              "                                                  OneHotEncoder(drop=&#x27;first&#x27;),\n",
              "                                                  [&#x27;frequency_of_travel&#x27;,\n",
              "                                                   &#x27;department&#x27;, &#x27;gender&#x27;,\n",
              "                                                   &#x27;position&#x27;,\n",
              "                                                   &#x27;married_or_single&#x27;])])),\n",
              "                (&#x27;dt&#x27;,\n",
              "                 DecisionTreeClassifier(class_weight=&#x27;balanced&#x27;, max_depth=20,\n",
              "                                        min_samples_leaf=2,\n",
              "                                        min_samples_split=3))])</pre><b>In a Jupyter environment, please rerun this cell to show the HTML representation or trust the notebook. <br />On GitHub, the HTML representation is unable to render, please try loading this page with nbviewer.org.</b></div><div class=\"sk-container\" hidden><div class=\"sk-item sk-dashed-wrapped\"><div class=\"sk-label-container\"><div class=\"sk-label sk-toggleable\"><input class=\"sk-toggleable__control sk-hidden--visually\" id=\"sk-estimator-id-8\" type=\"checkbox\" ><label for=\"sk-estimator-id-8\" class=\"sk-toggleable__label sk-toggleable__label-arrow\">Pipeline</label><div class=\"sk-toggleable__content\"><pre>Pipeline(steps=[(&#x27;data_processing&#x27;,\n",
              "                 ColumnTransformer(transformers=[(&#x27;numscaling&#x27;,\n",
              "                                                  StandardScaler(),\n",
              "                                                  [&#x27;age&#x27;, &#x27;commuting_distance&#x27;,\n",
              "                                                   &#x27;education&#x27;,\n",
              "                                                   &#x27;satisfaction_with_environment&#x27;,\n",
              "                                                   &#x27;seniority_level&#x27;,\n",
              "                                                   &#x27;satisfaction_with_job&#x27;,\n",
              "                                                   &#x27;last_raise_pct&#x27;,\n",
              "                                                   &#x27;last_performance_rating&#x27;,\n",
              "                                                   &#x27;total_years_working&#x27;,\n",
              "                                                   &#x27;years_since_last_promotion&#x27;,\n",
              "                                                   &#x27;years_at_company&#x27;,\n",
              "                                                   &#x27;years_in_current_job&#x27;,\n",
              "                                                   &#x27;years_with_current_supervisor&#x27;]),\n",
              "                                                 (&#x27;dummys&#x27;,\n",
              "                                                  OneHotEncoder(drop=&#x27;first&#x27;),\n",
              "                                                  [&#x27;frequency_of_travel&#x27;,\n",
              "                                                   &#x27;department&#x27;, &#x27;gender&#x27;,\n",
              "                                                   &#x27;position&#x27;,\n",
              "                                                   &#x27;married_or_single&#x27;])])),\n",
              "                (&#x27;dt&#x27;,\n",
              "                 DecisionTreeClassifier(class_weight=&#x27;balanced&#x27;, max_depth=20,\n",
              "                                        min_samples_leaf=2,\n",
              "                                        min_samples_split=3))])</pre></div></div></div><div class=\"sk-serial\"><div class=\"sk-item sk-dashed-wrapped\"><div class=\"sk-label-container\"><div class=\"sk-label sk-toggleable\"><input class=\"sk-toggleable__control sk-hidden--visually\" id=\"sk-estimator-id-9\" type=\"checkbox\" ><label for=\"sk-estimator-id-9\" class=\"sk-toggleable__label sk-toggleable__label-arrow\">data_processing: ColumnTransformer</label><div class=\"sk-toggleable__content\"><pre>ColumnTransformer(transformers=[(&#x27;numscaling&#x27;, StandardScaler(),\n",
              "                                 [&#x27;age&#x27;, &#x27;commuting_distance&#x27;, &#x27;education&#x27;,\n",
              "                                  &#x27;satisfaction_with_environment&#x27;,\n",
              "                                  &#x27;seniority_level&#x27;, &#x27;satisfaction_with_job&#x27;,\n",
              "                                  &#x27;last_raise_pct&#x27;, &#x27;last_performance_rating&#x27;,\n",
              "                                  &#x27;total_years_working&#x27;,\n",
              "                                  &#x27;years_since_last_promotion&#x27;,\n",
              "                                  &#x27;years_at_company&#x27;, &#x27;years_in_current_job&#x27;,\n",
              "                                  &#x27;years_with_current_supervisor&#x27;]),\n",
              "                                (&#x27;dummys&#x27;, OneHotEncoder(drop=&#x27;first&#x27;),\n",
              "                                 [&#x27;frequency_of_travel&#x27;, &#x27;department&#x27;, &#x27;gender&#x27;,\n",
              "                                  &#x27;position&#x27;, &#x27;married_or_single&#x27;])])</pre></div></div></div><div class=\"sk-parallel\"><div class=\"sk-parallel-item\"><div class=\"sk-item\"><div class=\"sk-label-container\"><div class=\"sk-label sk-toggleable\"><input class=\"sk-toggleable__control sk-hidden--visually\" id=\"sk-estimator-id-10\" type=\"checkbox\" ><label for=\"sk-estimator-id-10\" class=\"sk-toggleable__label sk-toggleable__label-arrow\">numscaling</label><div class=\"sk-toggleable__content\"><pre>[&#x27;age&#x27;, &#x27;commuting_distance&#x27;, &#x27;education&#x27;, &#x27;satisfaction_with_environment&#x27;, &#x27;seniority_level&#x27;, &#x27;satisfaction_with_job&#x27;, &#x27;last_raise_pct&#x27;, &#x27;last_performance_rating&#x27;, &#x27;total_years_working&#x27;, &#x27;years_since_last_promotion&#x27;, &#x27;years_at_company&#x27;, &#x27;years_in_current_job&#x27;, &#x27;years_with_current_supervisor&#x27;]</pre></div></div></div><div class=\"sk-serial\"><div class=\"sk-item\"><div class=\"sk-estimator sk-toggleable\"><input class=\"sk-toggleable__control sk-hidden--visually\" id=\"sk-estimator-id-11\" type=\"checkbox\" ><label for=\"sk-estimator-id-11\" class=\"sk-toggleable__label sk-toggleable__label-arrow\">StandardScaler</label><div class=\"sk-toggleable__content\"><pre>StandardScaler()</pre></div></div></div></div></div></div><div class=\"sk-parallel-item\"><div class=\"sk-item\"><div class=\"sk-label-container\"><div class=\"sk-label sk-toggleable\"><input class=\"sk-toggleable__control sk-hidden--visually\" id=\"sk-estimator-id-12\" type=\"checkbox\" ><label for=\"sk-estimator-id-12\" class=\"sk-toggleable__label sk-toggleable__label-arrow\">dummys</label><div class=\"sk-toggleable__content\"><pre>[&#x27;frequency_of_travel&#x27;, &#x27;department&#x27;, &#x27;gender&#x27;, &#x27;position&#x27;, &#x27;married_or_single&#x27;]</pre></div></div></div><div class=\"sk-serial\"><div class=\"sk-item\"><div class=\"sk-estimator sk-toggleable\"><input class=\"sk-toggleable__control sk-hidden--visually\" id=\"sk-estimator-id-13\" type=\"checkbox\" ><label for=\"sk-estimator-id-13\" class=\"sk-toggleable__label sk-toggleable__label-arrow\">OneHotEncoder</label><div class=\"sk-toggleable__content\"><pre>OneHotEncoder(drop=&#x27;first&#x27;)</pre></div></div></div></div></div></div></div></div><div class=\"sk-item\"><div class=\"sk-estimator sk-toggleable\"><input class=\"sk-toggleable__control sk-hidden--visually\" id=\"sk-estimator-id-14\" type=\"checkbox\" ><label for=\"sk-estimator-id-14\" class=\"sk-toggleable__label sk-toggleable__label-arrow\">DecisionTreeClassifier</label><div class=\"sk-toggleable__content\"><pre>DecisionTreeClassifier(class_weight=&#x27;balanced&#x27;, max_depth=20,\n",
              "                       min_samples_leaf=2, min_samples_split=3)</pre></div></div></div></div></div></div></div>"
            ]
          },
          "metadata": {},
          "execution_count": 7
        }
      ]
    },
    {
      "cell_type": "code",
      "source": [
        "y_testp = gcv_results.predict(X_test)\n",
        "y_testp_dt = gcv_results.predict_proba(X_test)\n",
        "\n",
        "from sklearn.metrics import classification_report\n",
        "print(classification_report(y_test, y_testp))"
      ],
      "metadata": {
        "colab": {
          "base_uri": "https://localhost:8080/"
        },
        "id": "l7skVi12GnHw",
        "outputId": "3a713ed4-1113-45c7-f4de-b019ad167f2d"
      },
      "execution_count": null,
      "outputs": [
        {
          "output_type": "stream",
          "name": "stdout",
          "text": [
            "              precision    recall  f1-score   support\n",
            "\n",
            "           0       0.86      0.72      0.78        96\n",
            "           1       0.78      0.89      0.83       104\n",
            "\n",
            "    accuracy                           0.81       200\n",
            "   macro avg       0.82      0.81      0.81       200\n",
            "weighted avg       0.82      0.81      0.81       200\n",
            "\n"
          ]
        }
      ]
    },
    {
      "cell_type": "markdown",
      "source": [
        "After recalling we can see there is a decrease from 0.80 to 0.81 approx no change in accuracy."
      ],
      "metadata": {
        "id": "erzxXrK_I6Xr"
      }
    },
    {
      "cell_type": "markdown",
      "source": [
        "## Train a random forest model"
      ],
      "metadata": {
        "id": "LqZUcfMjAGqC"
      }
    },
    {
      "cell_type": "code",
      "source": [
        "from sklearn.pipeline import Pipeline\n",
        "from sklearn.ensemble import RandomForestClassifier\n",
        "\n",
        "numerical_var = ['age', 'commuting_distance', 'education', 'satisfaction_with_environment','seniority_level','satisfaction_with_job','last_raise_pct', 'last_performance_rating',\n",
        "       'total_years_working', 'years_since_last_promotion','years_at_company','years_in_current_job',\n",
        "       'years_with_current_supervisor']\n",
        "ohes = ['frequency_of_travel', 'department','gender','position','married_or_single']\n",
        "\n",
        "processing_pipeline = ColumnTransformer(transformers=[\n",
        "    ('numscaling', StandardScaler(), numerical_var),\n",
        "    ('dummys', OneHotEncoder(drop='first'), ohes)]\n",
        ")\n",
        "\n",
        "rf_pipeline = Pipeline([\n",
        "    ('data_processing', processing_pipeline),\n",
        "    ('rf', RandomForestClassifier())]\n",
        ")\n",
        "\n",
        "modeling_pipeline = Pipeline([\n",
        "    ('data_processing', processing_pipeline),\n",
        "    ('dt', DecisionTreeClassifier())]\n",
        ")\n",
        "\n",
        "m =  modeling_pipeline.fit(X_train, y_train)\n",
        "m"
      ],
      "metadata": {
        "colab": {
          "base_uri": "https://localhost:8080/",
          "height": 192
        },
        "id": "U_BS9m88_3zb",
        "outputId": "d9e71b08-4f6b-4b6e-81f2-96d9f1c50cb1"
      },
      "execution_count": null,
      "outputs": [
        {
          "output_type": "execute_result",
          "data": {
            "text/plain": [
              "Pipeline(steps=[('data_processing',\n",
              "                 ColumnTransformer(transformers=[('numscaling',\n",
              "                                                  StandardScaler(),\n",
              "                                                  ['age', 'commuting_distance',\n",
              "                                                   'education',\n",
              "                                                   'satisfaction_with_environment',\n",
              "                                                   'seniority_level',\n",
              "                                                   'satisfaction_with_job',\n",
              "                                                   'last_raise_pct',\n",
              "                                                   'last_performance_rating',\n",
              "                                                   'total_years_working',\n",
              "                                                   'years_since_last_promotion',\n",
              "                                                   'years_at_company',\n",
              "                                                   'years_in_current_job',\n",
              "                                                   'years_with_current_supervisor']),\n",
              "                                                 ('dummys',\n",
              "                                                  OneHotEncoder(drop='first'),\n",
              "                                                  ['frequency_of_travel',\n",
              "                                                   'department', 'gender',\n",
              "                                                   'position',\n",
              "                                                   'married_or_single'])])),\n",
              "                ('dt', DecisionTreeClassifier())])"
            ],
            "text/html": [
              "<style>#sk-container-id-3 {color: black;background-color: white;}#sk-container-id-3 pre{padding: 0;}#sk-container-id-3 div.sk-toggleable {background-color: white;}#sk-container-id-3 label.sk-toggleable__label {cursor: pointer;display: block;width: 100%;margin-bottom: 0;padding: 0.3em;box-sizing: border-box;text-align: center;}#sk-container-id-3 label.sk-toggleable__label-arrow:before {content: \"▸\";float: left;margin-right: 0.25em;color: #696969;}#sk-container-id-3 label.sk-toggleable__label-arrow:hover:before {color: black;}#sk-container-id-3 div.sk-estimator:hover label.sk-toggleable__label-arrow:before {color: black;}#sk-container-id-3 div.sk-toggleable__content {max-height: 0;max-width: 0;overflow: hidden;text-align: left;background-color: #f0f8ff;}#sk-container-id-3 div.sk-toggleable__content pre {margin: 0.2em;color: black;border-radius: 0.25em;background-color: #f0f8ff;}#sk-container-id-3 input.sk-toggleable__control:checked~div.sk-toggleable__content {max-height: 200px;max-width: 100%;overflow: auto;}#sk-container-id-3 input.sk-toggleable__control:checked~label.sk-toggleable__label-arrow:before {content: \"▾\";}#sk-container-id-3 div.sk-estimator input.sk-toggleable__control:checked~label.sk-toggleable__label {background-color: #d4ebff;}#sk-container-id-3 div.sk-label input.sk-toggleable__control:checked~label.sk-toggleable__label {background-color: #d4ebff;}#sk-container-id-3 input.sk-hidden--visually {border: 0;clip: rect(1px 1px 1px 1px);clip: rect(1px, 1px, 1px, 1px);height: 1px;margin: -1px;overflow: hidden;padding: 0;position: absolute;width: 1px;}#sk-container-id-3 div.sk-estimator {font-family: monospace;background-color: #f0f8ff;border: 1px dotted black;border-radius: 0.25em;box-sizing: border-box;margin-bottom: 0.5em;}#sk-container-id-3 div.sk-estimator:hover {background-color: #d4ebff;}#sk-container-id-3 div.sk-parallel-item::after {content: \"\";width: 100%;border-bottom: 1px solid gray;flex-grow: 1;}#sk-container-id-3 div.sk-label:hover label.sk-toggleable__label {background-color: #d4ebff;}#sk-container-id-3 div.sk-serial::before {content: \"\";position: absolute;border-left: 1px solid gray;box-sizing: border-box;top: 0;bottom: 0;left: 50%;z-index: 0;}#sk-container-id-3 div.sk-serial {display: flex;flex-direction: column;align-items: center;background-color: white;padding-right: 0.2em;padding-left: 0.2em;position: relative;}#sk-container-id-3 div.sk-item {position: relative;z-index: 1;}#sk-container-id-3 div.sk-parallel {display: flex;align-items: stretch;justify-content: center;background-color: white;position: relative;}#sk-container-id-3 div.sk-item::before, #sk-container-id-3 div.sk-parallel-item::before {content: \"\";position: absolute;border-left: 1px solid gray;box-sizing: border-box;top: 0;bottom: 0;left: 50%;z-index: -1;}#sk-container-id-3 div.sk-parallel-item {display: flex;flex-direction: column;z-index: 1;position: relative;background-color: white;}#sk-container-id-3 div.sk-parallel-item:first-child::after {align-self: flex-end;width: 50%;}#sk-container-id-3 div.sk-parallel-item:last-child::after {align-self: flex-start;width: 50%;}#sk-container-id-3 div.sk-parallel-item:only-child::after {width: 0;}#sk-container-id-3 div.sk-dashed-wrapped {border: 1px dashed gray;margin: 0 0.4em 0.5em 0.4em;box-sizing: border-box;padding-bottom: 0.4em;background-color: white;}#sk-container-id-3 div.sk-label label {font-family: monospace;font-weight: bold;display: inline-block;line-height: 1.2em;}#sk-container-id-3 div.sk-label-container {text-align: center;}#sk-container-id-3 div.sk-container {/* jupyter's `normalize.less` sets `[hidden] { display: none; }` but bootstrap.min.css set `[hidden] { display: none !important; }` so we also need the `!important` here to be able to override the default hidden behavior on the sphinx rendered scikit-learn.org. See: https://github.com/scikit-learn/scikit-learn/issues/21755 */display: inline-block !important;position: relative;}#sk-container-id-3 div.sk-text-repr-fallback {display: none;}</style><div id=\"sk-container-id-3\" class=\"sk-top-container\"><div class=\"sk-text-repr-fallback\"><pre>Pipeline(steps=[(&#x27;data_processing&#x27;,\n",
              "                 ColumnTransformer(transformers=[(&#x27;numscaling&#x27;,\n",
              "                                                  StandardScaler(),\n",
              "                                                  [&#x27;age&#x27;, &#x27;commuting_distance&#x27;,\n",
              "                                                   &#x27;education&#x27;,\n",
              "                                                   &#x27;satisfaction_with_environment&#x27;,\n",
              "                                                   &#x27;seniority_level&#x27;,\n",
              "                                                   &#x27;satisfaction_with_job&#x27;,\n",
              "                                                   &#x27;last_raise_pct&#x27;,\n",
              "                                                   &#x27;last_performance_rating&#x27;,\n",
              "                                                   &#x27;total_years_working&#x27;,\n",
              "                                                   &#x27;years_since_last_promotion&#x27;,\n",
              "                                                   &#x27;years_at_company&#x27;,\n",
              "                                                   &#x27;years_in_current_job&#x27;,\n",
              "                                                   &#x27;years_with_current_supervisor&#x27;]),\n",
              "                                                 (&#x27;dummys&#x27;,\n",
              "                                                  OneHotEncoder(drop=&#x27;first&#x27;),\n",
              "                                                  [&#x27;frequency_of_travel&#x27;,\n",
              "                                                   &#x27;department&#x27;, &#x27;gender&#x27;,\n",
              "                                                   &#x27;position&#x27;,\n",
              "                                                   &#x27;married_or_single&#x27;])])),\n",
              "                (&#x27;dt&#x27;, DecisionTreeClassifier())])</pre><b>In a Jupyter environment, please rerun this cell to show the HTML representation or trust the notebook. <br />On GitHub, the HTML representation is unable to render, please try loading this page with nbviewer.org.</b></div><div class=\"sk-container\" hidden><div class=\"sk-item sk-dashed-wrapped\"><div class=\"sk-label-container\"><div class=\"sk-label sk-toggleable\"><input class=\"sk-toggleable__control sk-hidden--visually\" id=\"sk-estimator-id-15\" type=\"checkbox\" ><label for=\"sk-estimator-id-15\" class=\"sk-toggleable__label sk-toggleable__label-arrow\">Pipeline</label><div class=\"sk-toggleable__content\"><pre>Pipeline(steps=[(&#x27;data_processing&#x27;,\n",
              "                 ColumnTransformer(transformers=[(&#x27;numscaling&#x27;,\n",
              "                                                  StandardScaler(),\n",
              "                                                  [&#x27;age&#x27;, &#x27;commuting_distance&#x27;,\n",
              "                                                   &#x27;education&#x27;,\n",
              "                                                   &#x27;satisfaction_with_environment&#x27;,\n",
              "                                                   &#x27;seniority_level&#x27;,\n",
              "                                                   &#x27;satisfaction_with_job&#x27;,\n",
              "                                                   &#x27;last_raise_pct&#x27;,\n",
              "                                                   &#x27;last_performance_rating&#x27;,\n",
              "                                                   &#x27;total_years_working&#x27;,\n",
              "                                                   &#x27;years_since_last_promotion&#x27;,\n",
              "                                                   &#x27;years_at_company&#x27;,\n",
              "                                                   &#x27;years_in_current_job&#x27;,\n",
              "                                                   &#x27;years_with_current_supervisor&#x27;]),\n",
              "                                                 (&#x27;dummys&#x27;,\n",
              "                                                  OneHotEncoder(drop=&#x27;first&#x27;),\n",
              "                                                  [&#x27;frequency_of_travel&#x27;,\n",
              "                                                   &#x27;department&#x27;, &#x27;gender&#x27;,\n",
              "                                                   &#x27;position&#x27;,\n",
              "                                                   &#x27;married_or_single&#x27;])])),\n",
              "                (&#x27;dt&#x27;, DecisionTreeClassifier())])</pre></div></div></div><div class=\"sk-serial\"><div class=\"sk-item sk-dashed-wrapped\"><div class=\"sk-label-container\"><div class=\"sk-label sk-toggleable\"><input class=\"sk-toggleable__control sk-hidden--visually\" id=\"sk-estimator-id-16\" type=\"checkbox\" ><label for=\"sk-estimator-id-16\" class=\"sk-toggleable__label sk-toggleable__label-arrow\">data_processing: ColumnTransformer</label><div class=\"sk-toggleable__content\"><pre>ColumnTransformer(transformers=[(&#x27;numscaling&#x27;, StandardScaler(),\n",
              "                                 [&#x27;age&#x27;, &#x27;commuting_distance&#x27;, &#x27;education&#x27;,\n",
              "                                  &#x27;satisfaction_with_environment&#x27;,\n",
              "                                  &#x27;seniority_level&#x27;, &#x27;satisfaction_with_job&#x27;,\n",
              "                                  &#x27;last_raise_pct&#x27;, &#x27;last_performance_rating&#x27;,\n",
              "                                  &#x27;total_years_working&#x27;,\n",
              "                                  &#x27;years_since_last_promotion&#x27;,\n",
              "                                  &#x27;years_at_company&#x27;, &#x27;years_in_current_job&#x27;,\n",
              "                                  &#x27;years_with_current_supervisor&#x27;]),\n",
              "                                (&#x27;dummys&#x27;, OneHotEncoder(drop=&#x27;first&#x27;),\n",
              "                                 [&#x27;frequency_of_travel&#x27;, &#x27;department&#x27;, &#x27;gender&#x27;,\n",
              "                                  &#x27;position&#x27;, &#x27;married_or_single&#x27;])])</pre></div></div></div><div class=\"sk-parallel\"><div class=\"sk-parallel-item\"><div class=\"sk-item\"><div class=\"sk-label-container\"><div class=\"sk-label sk-toggleable\"><input class=\"sk-toggleable__control sk-hidden--visually\" id=\"sk-estimator-id-17\" type=\"checkbox\" ><label for=\"sk-estimator-id-17\" class=\"sk-toggleable__label sk-toggleable__label-arrow\">numscaling</label><div class=\"sk-toggleable__content\"><pre>[&#x27;age&#x27;, &#x27;commuting_distance&#x27;, &#x27;education&#x27;, &#x27;satisfaction_with_environment&#x27;, &#x27;seniority_level&#x27;, &#x27;satisfaction_with_job&#x27;, &#x27;last_raise_pct&#x27;, &#x27;last_performance_rating&#x27;, &#x27;total_years_working&#x27;, &#x27;years_since_last_promotion&#x27;, &#x27;years_at_company&#x27;, &#x27;years_in_current_job&#x27;, &#x27;years_with_current_supervisor&#x27;]</pre></div></div></div><div class=\"sk-serial\"><div class=\"sk-item\"><div class=\"sk-estimator sk-toggleable\"><input class=\"sk-toggleable__control sk-hidden--visually\" id=\"sk-estimator-id-18\" type=\"checkbox\" ><label for=\"sk-estimator-id-18\" class=\"sk-toggleable__label sk-toggleable__label-arrow\">StandardScaler</label><div class=\"sk-toggleable__content\"><pre>StandardScaler()</pre></div></div></div></div></div></div><div class=\"sk-parallel-item\"><div class=\"sk-item\"><div class=\"sk-label-container\"><div class=\"sk-label sk-toggleable\"><input class=\"sk-toggleable__control sk-hidden--visually\" id=\"sk-estimator-id-19\" type=\"checkbox\" ><label for=\"sk-estimator-id-19\" class=\"sk-toggleable__label sk-toggleable__label-arrow\">dummys</label><div class=\"sk-toggleable__content\"><pre>[&#x27;frequency_of_travel&#x27;, &#x27;department&#x27;, &#x27;gender&#x27;, &#x27;position&#x27;, &#x27;married_or_single&#x27;]</pre></div></div></div><div class=\"sk-serial\"><div class=\"sk-item\"><div class=\"sk-estimator sk-toggleable\"><input class=\"sk-toggleable__control sk-hidden--visually\" id=\"sk-estimator-id-20\" type=\"checkbox\" ><label for=\"sk-estimator-id-20\" class=\"sk-toggleable__label sk-toggleable__label-arrow\">OneHotEncoder</label><div class=\"sk-toggleable__content\"><pre>OneHotEncoder(drop=&#x27;first&#x27;)</pre></div></div></div></div></div></div></div></div><div class=\"sk-item\"><div class=\"sk-estimator sk-toggleable\"><input class=\"sk-toggleable__control sk-hidden--visually\" id=\"sk-estimator-id-21\" type=\"checkbox\" ><label for=\"sk-estimator-id-21\" class=\"sk-toggleable__label sk-toggleable__label-arrow\">DecisionTreeClassifier</label><div class=\"sk-toggleable__content\"><pre>DecisionTreeClassifier()</pre></div></div></div></div></div></div></div>"
            ]
          },
          "metadata": {},
          "execution_count": 9
        }
      ]
    },
    {
      "cell_type": "code",
      "source": [
        "y_hat = m.predict(X_test)\n",
        "    \n",
        "from sklearn.metrics import classification_report\n",
        "print(classification_report(y_test, y_hat))"
      ],
      "metadata": {
        "colab": {
          "base_uri": "https://localhost:8080/"
        },
        "id": "cMEpzjKRGSMJ",
        "outputId": "5e776e8e-7cff-4d5c-c9b5-040ae8388fef"
      },
      "execution_count": null,
      "outputs": [
        {
          "output_type": "stream",
          "name": "stdout",
          "text": [
            "              precision    recall  f1-score   support\n",
            "\n",
            "           0       0.86      0.75      0.80        96\n",
            "           1       0.79      0.88      0.84       104\n",
            "\n",
            "    accuracy                           0.82       200\n",
            "   macro avg       0.83      0.82      0.82       200\n",
            "weighted avg       0.82      0.82      0.82       200\n",
            "\n"
          ]
        }
      ]
    },
    {
      "cell_type": "markdown",
      "source": [
        "To improve the model we use recall"
      ],
      "metadata": {
        "id": "QhJ58FRzGUB3"
      }
    },
    {
      "cell_type": "code",
      "source": [
        "from sklearn.model_selection import GridSearchCV\n",
        "param_grid = [{'rf__max_depth': [5, 8, 10, 12],\n",
        "               'rf__n_estimators': [10, 50],\n",
        "               'rf__class_weight': [None, 'balanced', 'balanced_subsample'],\n",
        "               'rf__max_samples': [200,440,640]\n",
        "              }]\n",
        "\n",
        "rf_results = GridSearchCV(estimator=rf_pipeline, param_grid=param_grid, scoring='recall', refit=True)\n",
        "rf_results = rf_results.fit(X_train, y_train)\n",
        "rf_yhat = rf_results.predict(X_test)\n",
        "\n",
        "rf_results.best_estimator_"
      ],
      "metadata": {
        "colab": {
          "base_uri": "https://localhost:8080/",
          "height": 192
        },
        "id": "sz0VW1KoGDqj",
        "outputId": "a3ddf9dd-2921-4ac4-e617-152a193dc52c"
      },
      "execution_count": null,
      "outputs": [
        {
          "output_type": "execute_result",
          "data": {
            "text/plain": [
              "Pipeline(steps=[('data_processing',\n",
              "                 ColumnTransformer(transformers=[('numscaling',\n",
              "                                                  StandardScaler(),\n",
              "                                                  ['age', 'commuting_distance',\n",
              "                                                   'education',\n",
              "                                                   'satisfaction_with_environment',\n",
              "                                                   'seniority_level',\n",
              "                                                   'satisfaction_with_job',\n",
              "                                                   'last_raise_pct',\n",
              "                                                   'last_performance_rating',\n",
              "                                                   'total_years_working',\n",
              "                                                   'years_since_last_promotion',\n",
              "                                                   'years_at_company',\n",
              "                                                   'years_in_current_job',\n",
              "                                                   'years_with_current_supervisor']),\n",
              "                                                 ('dummys',\n",
              "                                                  OneHotEncoder(drop='first'),\n",
              "                                                  ['frequency_of_travel',\n",
              "                                                   'department', 'gender',\n",
              "                                                   'position',\n",
              "                                                   'married_or_single'])])),\n",
              "                ('rf',\n",
              "                 RandomForestClassifier(class_weight='balanced_subsample',\n",
              "                                        max_depth=12, max_samples=440,\n",
              "                                        n_estimators=50))])"
            ],
            "text/html": [
              "<style>#sk-container-id-4 {color: black;background-color: white;}#sk-container-id-4 pre{padding: 0;}#sk-container-id-4 div.sk-toggleable {background-color: white;}#sk-container-id-4 label.sk-toggleable__label {cursor: pointer;display: block;width: 100%;margin-bottom: 0;padding: 0.3em;box-sizing: border-box;text-align: center;}#sk-container-id-4 label.sk-toggleable__label-arrow:before {content: \"▸\";float: left;margin-right: 0.25em;color: #696969;}#sk-container-id-4 label.sk-toggleable__label-arrow:hover:before {color: black;}#sk-container-id-4 div.sk-estimator:hover label.sk-toggleable__label-arrow:before {color: black;}#sk-container-id-4 div.sk-toggleable__content {max-height: 0;max-width: 0;overflow: hidden;text-align: left;background-color: #f0f8ff;}#sk-container-id-4 div.sk-toggleable__content pre {margin: 0.2em;color: black;border-radius: 0.25em;background-color: #f0f8ff;}#sk-container-id-4 input.sk-toggleable__control:checked~div.sk-toggleable__content {max-height: 200px;max-width: 100%;overflow: auto;}#sk-container-id-4 input.sk-toggleable__control:checked~label.sk-toggleable__label-arrow:before {content: \"▾\";}#sk-container-id-4 div.sk-estimator input.sk-toggleable__control:checked~label.sk-toggleable__label {background-color: #d4ebff;}#sk-container-id-4 div.sk-label input.sk-toggleable__control:checked~label.sk-toggleable__label {background-color: #d4ebff;}#sk-container-id-4 input.sk-hidden--visually {border: 0;clip: rect(1px 1px 1px 1px);clip: rect(1px, 1px, 1px, 1px);height: 1px;margin: -1px;overflow: hidden;padding: 0;position: absolute;width: 1px;}#sk-container-id-4 div.sk-estimator {font-family: monospace;background-color: #f0f8ff;border: 1px dotted black;border-radius: 0.25em;box-sizing: border-box;margin-bottom: 0.5em;}#sk-container-id-4 div.sk-estimator:hover {background-color: #d4ebff;}#sk-container-id-4 div.sk-parallel-item::after {content: \"\";width: 100%;border-bottom: 1px solid gray;flex-grow: 1;}#sk-container-id-4 div.sk-label:hover label.sk-toggleable__label {background-color: #d4ebff;}#sk-container-id-4 div.sk-serial::before {content: \"\";position: absolute;border-left: 1px solid gray;box-sizing: border-box;top: 0;bottom: 0;left: 50%;z-index: 0;}#sk-container-id-4 div.sk-serial {display: flex;flex-direction: column;align-items: center;background-color: white;padding-right: 0.2em;padding-left: 0.2em;position: relative;}#sk-container-id-4 div.sk-item {position: relative;z-index: 1;}#sk-container-id-4 div.sk-parallel {display: flex;align-items: stretch;justify-content: center;background-color: white;position: relative;}#sk-container-id-4 div.sk-item::before, #sk-container-id-4 div.sk-parallel-item::before {content: \"\";position: absolute;border-left: 1px solid gray;box-sizing: border-box;top: 0;bottom: 0;left: 50%;z-index: -1;}#sk-container-id-4 div.sk-parallel-item {display: flex;flex-direction: column;z-index: 1;position: relative;background-color: white;}#sk-container-id-4 div.sk-parallel-item:first-child::after {align-self: flex-end;width: 50%;}#sk-container-id-4 div.sk-parallel-item:last-child::after {align-self: flex-start;width: 50%;}#sk-container-id-4 div.sk-parallel-item:only-child::after {width: 0;}#sk-container-id-4 div.sk-dashed-wrapped {border: 1px dashed gray;margin: 0 0.4em 0.5em 0.4em;box-sizing: border-box;padding-bottom: 0.4em;background-color: white;}#sk-container-id-4 div.sk-label label {font-family: monospace;font-weight: bold;display: inline-block;line-height: 1.2em;}#sk-container-id-4 div.sk-label-container {text-align: center;}#sk-container-id-4 div.sk-container {/* jupyter's `normalize.less` sets `[hidden] { display: none; }` but bootstrap.min.css set `[hidden] { display: none !important; }` so we also need the `!important` here to be able to override the default hidden behavior on the sphinx rendered scikit-learn.org. See: https://github.com/scikit-learn/scikit-learn/issues/21755 */display: inline-block !important;position: relative;}#sk-container-id-4 div.sk-text-repr-fallback {display: none;}</style><div id=\"sk-container-id-4\" class=\"sk-top-container\"><div class=\"sk-text-repr-fallback\"><pre>Pipeline(steps=[(&#x27;data_processing&#x27;,\n",
              "                 ColumnTransformer(transformers=[(&#x27;numscaling&#x27;,\n",
              "                                                  StandardScaler(),\n",
              "                                                  [&#x27;age&#x27;, &#x27;commuting_distance&#x27;,\n",
              "                                                   &#x27;education&#x27;,\n",
              "                                                   &#x27;satisfaction_with_environment&#x27;,\n",
              "                                                   &#x27;seniority_level&#x27;,\n",
              "                                                   &#x27;satisfaction_with_job&#x27;,\n",
              "                                                   &#x27;last_raise_pct&#x27;,\n",
              "                                                   &#x27;last_performance_rating&#x27;,\n",
              "                                                   &#x27;total_years_working&#x27;,\n",
              "                                                   &#x27;years_since_last_promotion&#x27;,\n",
              "                                                   &#x27;years_at_company&#x27;,\n",
              "                                                   &#x27;years_in_current_job&#x27;,\n",
              "                                                   &#x27;years_with_current_supervisor&#x27;]),\n",
              "                                                 (&#x27;dummys&#x27;,\n",
              "                                                  OneHotEncoder(drop=&#x27;first&#x27;),\n",
              "                                                  [&#x27;frequency_of_travel&#x27;,\n",
              "                                                   &#x27;department&#x27;, &#x27;gender&#x27;,\n",
              "                                                   &#x27;position&#x27;,\n",
              "                                                   &#x27;married_or_single&#x27;])])),\n",
              "                (&#x27;rf&#x27;,\n",
              "                 RandomForestClassifier(class_weight=&#x27;balanced_subsample&#x27;,\n",
              "                                        max_depth=12, max_samples=440,\n",
              "                                        n_estimators=50))])</pre><b>In a Jupyter environment, please rerun this cell to show the HTML representation or trust the notebook. <br />On GitHub, the HTML representation is unable to render, please try loading this page with nbviewer.org.</b></div><div class=\"sk-container\" hidden><div class=\"sk-item sk-dashed-wrapped\"><div class=\"sk-label-container\"><div class=\"sk-label sk-toggleable\"><input class=\"sk-toggleable__control sk-hidden--visually\" id=\"sk-estimator-id-22\" type=\"checkbox\" ><label for=\"sk-estimator-id-22\" class=\"sk-toggleable__label sk-toggleable__label-arrow\">Pipeline</label><div class=\"sk-toggleable__content\"><pre>Pipeline(steps=[(&#x27;data_processing&#x27;,\n",
              "                 ColumnTransformer(transformers=[(&#x27;numscaling&#x27;,\n",
              "                                                  StandardScaler(),\n",
              "                                                  [&#x27;age&#x27;, &#x27;commuting_distance&#x27;,\n",
              "                                                   &#x27;education&#x27;,\n",
              "                                                   &#x27;satisfaction_with_environment&#x27;,\n",
              "                                                   &#x27;seniority_level&#x27;,\n",
              "                                                   &#x27;satisfaction_with_job&#x27;,\n",
              "                                                   &#x27;last_raise_pct&#x27;,\n",
              "                                                   &#x27;last_performance_rating&#x27;,\n",
              "                                                   &#x27;total_years_working&#x27;,\n",
              "                                                   &#x27;years_since_last_promotion&#x27;,\n",
              "                                                   &#x27;years_at_company&#x27;,\n",
              "                                                   &#x27;years_in_current_job&#x27;,\n",
              "                                                   &#x27;years_with_current_supervisor&#x27;]),\n",
              "                                                 (&#x27;dummys&#x27;,\n",
              "                                                  OneHotEncoder(drop=&#x27;first&#x27;),\n",
              "                                                  [&#x27;frequency_of_travel&#x27;,\n",
              "                                                   &#x27;department&#x27;, &#x27;gender&#x27;,\n",
              "                                                   &#x27;position&#x27;,\n",
              "                                                   &#x27;married_or_single&#x27;])])),\n",
              "                (&#x27;rf&#x27;,\n",
              "                 RandomForestClassifier(class_weight=&#x27;balanced_subsample&#x27;,\n",
              "                                        max_depth=12, max_samples=440,\n",
              "                                        n_estimators=50))])</pre></div></div></div><div class=\"sk-serial\"><div class=\"sk-item sk-dashed-wrapped\"><div class=\"sk-label-container\"><div class=\"sk-label sk-toggleable\"><input class=\"sk-toggleable__control sk-hidden--visually\" id=\"sk-estimator-id-23\" type=\"checkbox\" ><label for=\"sk-estimator-id-23\" class=\"sk-toggleable__label sk-toggleable__label-arrow\">data_processing: ColumnTransformer</label><div class=\"sk-toggleable__content\"><pre>ColumnTransformer(transformers=[(&#x27;numscaling&#x27;, StandardScaler(),\n",
              "                                 [&#x27;age&#x27;, &#x27;commuting_distance&#x27;, &#x27;education&#x27;,\n",
              "                                  &#x27;satisfaction_with_environment&#x27;,\n",
              "                                  &#x27;seniority_level&#x27;, &#x27;satisfaction_with_job&#x27;,\n",
              "                                  &#x27;last_raise_pct&#x27;, &#x27;last_performance_rating&#x27;,\n",
              "                                  &#x27;total_years_working&#x27;,\n",
              "                                  &#x27;years_since_last_promotion&#x27;,\n",
              "                                  &#x27;years_at_company&#x27;, &#x27;years_in_current_job&#x27;,\n",
              "                                  &#x27;years_with_current_supervisor&#x27;]),\n",
              "                                (&#x27;dummys&#x27;, OneHotEncoder(drop=&#x27;first&#x27;),\n",
              "                                 [&#x27;frequency_of_travel&#x27;, &#x27;department&#x27;, &#x27;gender&#x27;,\n",
              "                                  &#x27;position&#x27;, &#x27;married_or_single&#x27;])])</pre></div></div></div><div class=\"sk-parallel\"><div class=\"sk-parallel-item\"><div class=\"sk-item\"><div class=\"sk-label-container\"><div class=\"sk-label sk-toggleable\"><input class=\"sk-toggleable__control sk-hidden--visually\" id=\"sk-estimator-id-24\" type=\"checkbox\" ><label for=\"sk-estimator-id-24\" class=\"sk-toggleable__label sk-toggleable__label-arrow\">numscaling</label><div class=\"sk-toggleable__content\"><pre>[&#x27;age&#x27;, &#x27;commuting_distance&#x27;, &#x27;education&#x27;, &#x27;satisfaction_with_environment&#x27;, &#x27;seniority_level&#x27;, &#x27;satisfaction_with_job&#x27;, &#x27;last_raise_pct&#x27;, &#x27;last_performance_rating&#x27;, &#x27;total_years_working&#x27;, &#x27;years_since_last_promotion&#x27;, &#x27;years_at_company&#x27;, &#x27;years_in_current_job&#x27;, &#x27;years_with_current_supervisor&#x27;]</pre></div></div></div><div class=\"sk-serial\"><div class=\"sk-item\"><div class=\"sk-estimator sk-toggleable\"><input class=\"sk-toggleable__control sk-hidden--visually\" id=\"sk-estimator-id-25\" type=\"checkbox\" ><label for=\"sk-estimator-id-25\" class=\"sk-toggleable__label sk-toggleable__label-arrow\">StandardScaler</label><div class=\"sk-toggleable__content\"><pre>StandardScaler()</pre></div></div></div></div></div></div><div class=\"sk-parallel-item\"><div class=\"sk-item\"><div class=\"sk-label-container\"><div class=\"sk-label sk-toggleable\"><input class=\"sk-toggleable__control sk-hidden--visually\" id=\"sk-estimator-id-26\" type=\"checkbox\" ><label for=\"sk-estimator-id-26\" class=\"sk-toggleable__label sk-toggleable__label-arrow\">dummys</label><div class=\"sk-toggleable__content\"><pre>[&#x27;frequency_of_travel&#x27;, &#x27;department&#x27;, &#x27;gender&#x27;, &#x27;position&#x27;, &#x27;married_or_single&#x27;]</pre></div></div></div><div class=\"sk-serial\"><div class=\"sk-item\"><div class=\"sk-estimator sk-toggleable\"><input class=\"sk-toggleable__control sk-hidden--visually\" id=\"sk-estimator-id-27\" type=\"checkbox\" ><label for=\"sk-estimator-id-27\" class=\"sk-toggleable__label sk-toggleable__label-arrow\">OneHotEncoder</label><div class=\"sk-toggleable__content\"><pre>OneHotEncoder(drop=&#x27;first&#x27;)</pre></div></div></div></div></div></div></div></div><div class=\"sk-item\"><div class=\"sk-estimator sk-toggleable\"><input class=\"sk-toggleable__control sk-hidden--visually\" id=\"sk-estimator-id-28\" type=\"checkbox\" ><label for=\"sk-estimator-id-28\" class=\"sk-toggleable__label sk-toggleable__label-arrow\">RandomForestClassifier</label><div class=\"sk-toggleable__content\"><pre>RandomForestClassifier(class_weight=&#x27;balanced_subsample&#x27;, max_depth=12,\n",
              "                       max_samples=440, n_estimators=50)</pre></div></div></div></div></div></div></div>"
            ]
          },
          "metadata": {},
          "execution_count": 11
        }
      ]
    },
    {
      "cell_type": "code",
      "source": [
        "y_testp = rf_results.predict(X_test)\n",
        "y_testp_rf = rf_results.predict_proba(X_test)\n",
        "\n",
        "from sklearn.metrics import classification_report\n",
        "print(classification_report(y_test, y_testp))"
      ],
      "metadata": {
        "colab": {
          "base_uri": "https://localhost:8080/"
        },
        "id": "PdpZp-d4F2Bk",
        "outputId": "a726e2d5-bec2-4748-a922-a23af7bac3bb"
      },
      "execution_count": null,
      "outputs": [
        {
          "output_type": "stream",
          "name": "stdout",
          "text": [
            "              precision    recall  f1-score   support\n",
            "\n",
            "           0       0.84      0.83      0.84        96\n",
            "           1       0.85      0.86      0.85       104\n",
            "\n",
            "    accuracy                           0.84       200\n",
            "   macro avg       0.84      0.84      0.84       200\n",
            "weighted avg       0.84      0.84      0.84       200\n",
            "\n"
          ]
        }
      ]
    },
    {
      "cell_type": "markdown",
      "source": [
        "After recalling we can see a change from 0.82 to 0.84 approx change in accuracy in random forest."
      ],
      "metadata": {
        "id": "rq7TQhmqKdBG"
      }
    },
    {
      "cell_type": "markdown",
      "source": [
        "## Evalvate Models"
      ],
      "metadata": {
        "id": "QjUlDdfVJU-5"
      }
    },
    {
      "cell_type": "code",
      "source": [
        "from sklearn.metrics import precision_recall_curve\n",
        "\n",
        "def generate_pr(y, probs):\n",
        "    pr, rec, _ = precision_recall_curve(y, probs)\n",
        "    return pr, rec\n",
        "    \n",
        "pr_dt, rec_dt = generate_pr(y_test, y_testp_dt[:,1])\n",
        "pr_rf, rec_rf = generate_pr(y_test, y_testp_rf[:,1])\n",
        "\n",
        "plt.plot(rec_dt, pr_dt,'-or')\n",
        "plt.plot(rec_rf, pr_rf,'-ob')\n",
        "plt.xlabel('Recall')\n",
        "plt.ylabel('Precision')\n",
        "plt.legend(['Decision Tree','Logistic Regression'])\n",
        "plt.show()"
      ],
      "metadata": {
        "colab": {
          "base_uri": "https://localhost:8080/",
          "height": 279
        },
        "id": "h60WtT-_JUm5",
        "outputId": "43fe0544-34c0-4e5e-c611-1489bd8ceab8"
      },
      "execution_count": null,
      "outputs": [
        {
          "output_type": "display_data",
          "data": {
            "text/plain": [
              "<Figure size 432x288 with 1 Axes>"
            ],
            "image/png": "[encoded data removed]"
          },
          "metadata": {
            "needs_background": "light"
          }
        }
      ]
    },
    {
      "cell_type": "markdown",
      "source": [
        "## Explain findings"
      ],
      "metadata": {
        "id": "fo1hg9N-JKsS"
      }
    },
    {
      "cell_type": "markdown",
      "source": [
        "We can see from the accuracy from above that the random forest model outperforms the decision tree model. This could be because random forest is an ensemble approach that mixes several decision trees, reducing overfitting and enhancing generalization. In addition, compared to decision trees, random forest can accommodate a greater number of input characteristics and is less susceptible to outliers.\n",
        "\n",
        "Decision Tree Accuracy : 0.80\n",
        "\n",
        "Random Forest Accuracty : 0.82"
      ],
      "metadata": {
        "id": "KGbNkDaMImHz"
      }
    }
  ]
}