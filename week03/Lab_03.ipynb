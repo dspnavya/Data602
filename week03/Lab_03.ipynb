{
  "nbformat": 4,
  "nbformat_minor": 0,
  "metadata": {
    "colab": {
      "provenance": []
    },
    "kernelspec": {
      "name": "python3",
      "display_name": "Python 3"
    },
    "language_info": {
      "name": "python"
    }
  },
  "cells": [
    {
      "cell_type": "markdown",
      "source": [
        "Week 3 Lab\n"
      ],
      "metadata": {
        "id": "BgYfKXVY5rQR"
      }
    },
    {
      "cell_type": "markdown",
      "source": [
        "1) Differences between supervised and unsupervised learning?\n",
        "\n",
        "Supervised\n",
        "\n",
        "1. Supervised learning involves training a model using labeled data\n",
        "2. A supervised learning model learns to make predictions or structure in the data without any guidance from a human supervisor.\n",
        "3. Supervised learning input data is provided to the model along with the output.\n",
        "4. The main purpose of Supervised learning is to train the model and to predict the output when it is given new data.\n",
        "5. Supervised learning needs some supervision training for model\n",
        "6. It can be classified into two types i.e classification and regression problems.\n",
        "7. Supervised learning first we train the model for each data and then only it predicts the correct output, it is not close to true Artificial intelligence.\n",
        "8. It includes various algorithms such as Linear Regression, Logistic Regression, Support Vector Machine, and Multi-class Classification, Decision tree, Bayesian Logic, etc.\n",
        "\n",
        "\n",
        "Unsupervised\n",
        "\n",
        "\n",
        "1. Unsupervised learning involves training a model on unlabeled data\n",
        "2. Unsupervised learning model learns to find patterns or structures in the data without any guidance from a human supervisor.\n",
        "3. In Unsupervised learning, only input data is provided to the model.\n",
        "4. The main purpose of Unsupervised learning is to find hidden patterns and useful insights from the unknown dataset.\n",
        "5. Unsupervised learning doesn’t need any supervision training for model\n",
        "6. It can be classified into two types i.e clustering and Association problems.\n",
        "7. Unsupervised learning learns every day and gets trained, it is closer to true Artificial intelligence.\n",
        "8. It includes various algorithms such as Clustering, KNN, and Apriori algorithms.\n",
        "\n",
        "\n"
      ],
      "metadata": {
        "id": "eRhQC-n42sAQ"
      }
    },
    {
      "cell_type": "markdown",
      "source": [
        "2) Differences between classification and regression?\n",
        "\n",
        "Classification\n",
        "1. The main task of the Classification is to predict categorical labels or classes.\n",
        "2. The output of the classification is produced in the discrete values.\n",
        "3. The performance of Classification is Accuracy, precision, and recall.\n",
        "4. The classification type of model is Logistic regression, decision tree, random forest, support vector machines, neural networks, etc.\n",
        "5. Applications of Classification is Image classification, sentiment analysis, medical diagnosis, fraud detection, etc.\n",
        "6. The example of Classification is Predicting whether an email is a spam or not\n",
        "\n",
        "Regression\n",
        "\n",
        "1. The main task of the Regression is to predict continuous numerical values.\n",
        "2. The output of the Regression is produced in the continuous values\n",
        "3. The performance of Regression is Mean squared error, mean absolute error, R-squared, etc.\n",
        "4. The Regression type of model is \n",
        "Linear regression, polynomial regression, decision tree regression, random forest regression, support vector regression, neural networks, etc.\n",
        "5. Applications of Regression is Stock price prediction, demand forecasting, sales forecasting, etc.\n",
        "6. An example of Regression is Predicting the price of a house\n",
        "\n"
      ],
      "metadata": {
        "id": "2Ja1PMrT33sL"
      }
    },
    {
      "cell_type": "markdown",
      "source": [
        "3) Classification and regression are the only types of supervised learning.\n",
        "\n",
        "No, Classification and regressions are not only supervised learning there are several other types of supervised learning. But these are two of the most common types of supervised learning.\n",
        "\n",
        "1) **Naive Bayesian Model:** The Bayesian model of classification is used for big, finite datasets. As the supervised learning process used in machine learning (ML) makes creating classifiers simple and straightforward, it is effective with incredibly small data sets. This approach is based on large-scale data presumptions, such as the independent nature of each attribute. Nonetheless, because of its simplification, this approach can be applied to difficult issues with ease.\n",
        "\n",
        "2) **Decision Trees:** Decision Trees are a type of machine learning model that can be used for both supervised and unsupervised learning. In supervised learning, decision trees are used for classification and regression tasks. Decision trees are interpretable and can handle both categorical and numerical data, making them useful in a wide range of applications. \n",
        "\n",
        "3) **Random Forest Model:** It is used for supervised learning tasks such as classification and regression. It is an ensemble method that combines multiple decision trees to improve the accuracy and robustness of the model. Random forests have been successfully used in many applications, such as image classification, text classification, and bioinformatics.\n",
        "\n",
        "4) **Sequence prediction:** Predicting a sequence of future occurrences based on a sequence of past events is the aim of this type of supervised learning. Predictions of weather patterns or stock values are two examples.\n",
        "\n",
        "5) **Neural Networks:** This algorithm's functions include pattern recognition, sensory data interpretation, and input clustering. When there are thousands of observations, fitting a neural network might get challenging. It is also known as the \"black-box\" algorithm since it might be difficult to understand the reasoning behind their predictions.\n",
        "\n",
        "6) Support Vector Machines: The supervised learning algorithm Support Vector Machine (SVM) can be used for regression or classification. The approach can be implemented successfully with high-dimensional spaces as well as with small data sets.\n"
      ],
      "metadata": {
        "id": "9yqLlfpd4hQG"
      }
    },
    {
      "cell_type": "markdown",
      "source": [
        "\n",
        "References:\n",
        "\n",
        "1) “Differences between supervised and unsupervised learning”,https://www.javatpoint.com/difference-between-supervised-and-unsupervised-learning\n",
        "\n",
        "2) “ Differences between classification and regression”,https://www.springboard.com/blog/data-science/regression-vs-classification/\n",
        "\n",
        "3) “Classification and regression are the only types of supervised learning”,https://www.simplilearn.com/regression-vs-classification-in-machine-learning-article"
      ],
      "metadata": {
        "id": "2NUK1quu5WsP"
      }
    },
    {
      "cell_type": "code",
      "execution_count": null,
      "metadata": {
        "id": "Wqs5mwwg2rI0"
      },
      "outputs": [],
      "source": []
    }
  ]
}